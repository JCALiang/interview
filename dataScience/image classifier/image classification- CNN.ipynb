{
 "cells": [
  {
   "cell_type": "code",
   "execution_count": null,
   "metadata": {},
   "outputs": [],
   "source": [
    "#Interview Practice- Machine Learning\n",
    "# Topic: Food Image Classifier\n",
    "# Written by: Chieh-An Liang\n",
    "# Date: 17/12/2018\n",
    "# version: 1.0\n",
    "\n",
    "\n",
    "#https://www.kaggle.com/c/cs5242-project-1\n",
    "# 1. data inspection\n",
    "#  - check for tips on finding image info\n",
    "\n",
    "# 2. data preprocessing\n",
    "#  - microsoft openHack review of image transformation\n",
    "\n",
    "# 3. model selection and explanation- keras\n",
    "#  - microsoft openHack review\n",
    "\n",
    "# 4. model training\n",
    "# model evaluation- precision and recall\n",
    "\n",
    "# learning curve\n",
    "\n",
    "# 5. Prediction\n",
    "# random picture from google\n"
   ]
  }
 ],
 "metadata": {
  "kernelspec": {
   "display_name": "Python 3",
   "language": "python",
   "name": "python3"
  },
  "language_info": {
   "codemirror_mode": {
    "name": "ipython",
    "version": 3
   },
   "file_extension": ".py",
   "mimetype": "text/x-python",
   "name": "python",
   "nbconvert_exporter": "python",
   "pygments_lexer": "ipython3",
   "version": "3.6.4"
  }
 },
 "nbformat": 4,
 "nbformat_minor": 2
}
