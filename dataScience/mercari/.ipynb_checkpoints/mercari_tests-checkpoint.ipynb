{
 "cells": [
  {
   "cell_type": "markdown",
   "metadata": {},
   "source": [
    "<h1>Mercari Technical Tests</h1>\n",
    "\n",
    "\n"
   ]
  },
  {
   "cell_type": "markdown",
   "metadata": {},
   "source": [
    "<h3>Q1</h3>\n",
    "<br>\n",
    "Mercari monitors its marketplace 24/7/365 for listings with prohibited items.\n",
    "Suppose that someone in the company created a new algorithm for automatically detecting\n",
    "these prohibited listings.\n",
    "This algorithm is shown to be 99.9% accurate. It is now your job to evaluate the validity and\n",
    "practicality of the algorithm.\n",
    "What sort of evaluations do you think are necessary?\n",
    "Feel free to list up multiple examples if you have more than one, but be sure to order them in\n",
    "terms of priority. Assume that the algorithm itself is implemented correctly and there are no\n",
    "bugs.\n",
    "<br>"
   ]
  },
  {
   "cell_type": "markdown",
   "metadata": {},
   "source": [
    "validity / practicality\n",
    "\n",
    "Even though the algorithm is shown to be 99.9% accurate, it might not work as well as in the actual run environment and we need to check for the case of overfitting (high variance).\n",
    "\n",
    "First step is to validate the algorithm .\n",
    "train/test in order to get unbiased data. might have high variance issue\n",
    "make sure train/ test set have same/ similar distribution. K-fold validation is simple to test\n",
    "\n",
    "Once we are sure of the dev dataset, we\n",
    "A/B test \n",
    "\n",
    "Stream data\n",
    "\n",
    "<br>"
   ]
  },
  {
   "cell_type": "markdown",
   "metadata": {},
   "source": [
    "<h3> Q2 </h3>\n",
    "<br>\n",
    "Suppose an engineer is trying to solve a classification problem.\n",
    "We managed to obtain accurate results for the training data, however we did not for the test\n",
    "data.\n",
    "Please list up the possible causes for this problem, and any proposed solutions that you may\n",
    "have."
   ]
  },
  {
   "cell_type": "markdown",
   "metadata": {},
   "source": [
    "<p>Possible causes: overfitting, low train/test ratio. </p>\n",
    "\n",
    "<p>\n",
    "Proposed solutions: \n",
    "    <br>\n",
    "\n",
    "\n",
    "1. More training data/ increase train to test ratio <br>\n",
    "&emsp;can help the algorithm to detect more signal and to classify more accurately, without necessarily hurting bias.\n",
    "<br>\n",
    "\n",
    "2. Remove features<br>\n",
    "&emsp;Overfitting is caused by noise and incorporating unwanted feature. Can discuss with domain expert which features to use/ not to use.\n",
    "<br>\n",
    "3. Regularization <br>\n",
    "&emsp;Artificially forces model to be simpler, therefore reduce overfitting. \n",
    "<br>\n",
    "4. Bagging <br>\n",
    "&emsp;train model with different data subsets to reduce variance\n",
    "\n",
    "</p>\n",
    "<br>\n",
    "<br>"
   ]
  },
  {
   "cell_type": "markdown",
   "metadata": {},
   "source": [
    "<h3> Q3 </h3>\n",
    "<br>\n",
    "“Deep learning” is a term that is floated around a lot lately, but the idea itself has been\n",
    "around since the 80s or 90s. Why do you think that it has suddenly become such a hot topic\n",
    "again?\n",
    "Please also give us your thoughts and opinion of deep learning in general to support your\n",
    "answer"
   ]
  },
  {
   "cell_type": "markdown",
   "metadata": {},
   "source": [
    "A lot has to do with the emergence of big data and prevalence of IoT. Deep learning performs exceptionally well with large scale of data: the larger the scale, the more accurate the prediction. In the 80s/90s, consumer devices were prohibitively expensive which made data generation/ collection difficult. Today, almost everyone is connected to electronic devices and produces data in an exponential rate. With abundance of data, deep learning can solve complex problems and gives better prediction accuracy compare to other machine learing methods.\n",
    "\n",
    "Another difference is the availability of cheap/ fast computing power. Deep learning is an iterative process of idea/code/experiment. In the past, it would take ages to validate ideas and to tune parameters. Now, we can iterate the process much more quickly, making deep learning more practical.\n",
    "\n",
    "Big data and faster computers are the two key factors that bring deep learning back to people's attention.\n",
    "<br>\n",
    "<br>"
   ]
  },
  {
   "cell_type": "markdown",
   "metadata": {},
   "source": [
    "<h3> Q4 </h3>\n",
    "<br>\n",
    "Predicting \"category_class\"\n",
    "<br>\n",
    "\n",
    "Source code for each process which should include following steps:\n",
    "<pre>\n",
    "Data analysis\n",
    "Feature extraction / Feature engineering\n",
    "Model training\n",
    "Model evaluation\n",
    "Prediction\n",
    "</pre>\n",
    "<br>"
   ]
  },
  {
   "cell_type": "markdown",
   "metadata": {},
   "source": [
    "<b>Data analysis</b>\n",
    "\n",
    "First check number of labels for each column feature. <br>\n",
    "Then check if the training dataset has an evenly distributed category class.<br>\n",
    "It is clear that the data are not evenly distributed, we have more training samples for class 0,1,2 compares to 3,4. This needs to be address to in the later model training stage.<br>\n",
    "No missing, blank, NaN values, since this dataset is autogenerated. <br>\n"
   ]
  },
  {
   "cell_type": "code",
   "execution_count": 11,
   "metadata": {},
   "outputs": [
    {
     "data": {
      "text/html": [
       "<div>\n",
       "<style scoped>\n",
       "    .dataframe tbody tr th:only-of-type {\n",
       "        vertical-align: middle;\n",
       "    }\n",
       "\n",
       "    .dataframe tbody tr th {\n",
       "        vertical-align: top;\n",
       "    }\n",
       "\n",
       "    .dataframe thead th {\n",
       "        text-align: right;\n",
       "    }\n",
       "</style>\n",
       "<table border=\"1\" class=\"dataframe\">\n",
       "  <thead>\n",
       "    <tr style=\"text-align: right;\">\n",
       "      <th></th>\n",
       "      <th>item_id</th>\n",
       "      <th>category_class</th>\n",
       "      <th>sold_price</th>\n",
       "      <th>price</th>\n",
       "      <th>area_name</th>\n",
       "      <th>condition</th>\n",
       "      <th>size</th>\n",
       "      <th>listing_at</th>\n",
       "      <th>item_tag_hash</th>\n",
       "    </tr>\n",
       "  </thead>\n",
       "  <tbody>\n",
       "    <tr>\n",
       "      <th>0</th>\n",
       "      <td>7966</td>\n",
       "      <td>0.0</td>\n",
       "      <td>1164</td>\n",
       "      <td>1162</td>\n",
       "      <td>fff</td>\n",
       "      <td>Fair</td>\n",
       "      <td>7</td>\n",
       "      <td>2017-02-01 16:11:18.978516</td>\n",
       "      <td>3ca192bd7558780793444f73366c58d60c9d7775</td>\n",
       "    </tr>\n",
       "    <tr>\n",
       "      <th>1</th>\n",
       "      <td>1850</td>\n",
       "      <td>0.0</td>\n",
       "      <td>1005</td>\n",
       "      <td>1004</td>\n",
       "      <td>fff</td>\n",
       "      <td>Fair</td>\n",
       "      <td>3</td>\n",
       "      <td>2017-02-02 14:42:51.693295</td>\n",
       "      <td>fbaacb960902382e4f6c96f2d8f225c24eecadb4</td>\n",
       "    </tr>\n",
       "    <tr>\n",
       "      <th>2</th>\n",
       "      <td>7582</td>\n",
       "      <td>2.0</td>\n",
       "      <td>944</td>\n",
       "      <td>944</td>\n",
       "      <td>aaa</td>\n",
       "      <td>Fair</td>\n",
       "      <td>5</td>\n",
       "      <td>2017-02-03 01:55:53.406374</td>\n",
       "      <td>785a7925363bf133a7c5413c563f331c5e02cc69</td>\n",
       "    </tr>\n",
       "    <tr>\n",
       "      <th>3</th>\n",
       "      <td>6560</td>\n",
       "      <td>0.0</td>\n",
       "      <td>1068</td>\n",
       "      <td>1067</td>\n",
       "      <td>fff</td>\n",
       "      <td>Fair</td>\n",
       "      <td>7</td>\n",
       "      <td>2017-01-30 23:34:02.268603</td>\n",
       "      <td>f8997252c6e5ae3d950b736e1a81160a2e937a7f</td>\n",
       "    </tr>\n",
       "    <tr>\n",
       "      <th>4</th>\n",
       "      <td>7368</td>\n",
       "      <td>3.0</td>\n",
       "      <td>1407</td>\n",
       "      <td>1407</td>\n",
       "      <td>ddd</td>\n",
       "      <td>Good</td>\n",
       "      <td>15</td>\n",
       "      <td>2017-02-03 13:38:37.845010</td>\n",
       "      <td>ca59bcd3da4daac52f3fcfdc0ab963f65cf421bc</td>\n",
       "    </tr>\n",
       "  </tbody>\n",
       "</table>\n",
       "</div>"
      ],
      "text/plain": [
       "   item_id  category_class  sold_price  price area_name condition  size  \\\n",
       "0     7966             0.0        1164   1162       fff      Fair     7   \n",
       "1     1850             0.0        1005   1004       fff      Fair     3   \n",
       "2     7582             2.0         944    944       aaa      Fair     5   \n",
       "3     6560             0.0        1068   1067       fff      Fair     7   \n",
       "4     7368             3.0        1407   1407       ddd      Good    15   \n",
       "\n",
       "                   listing_at                             item_tag_hash  \n",
       "0  2017-02-01 16:11:18.978516  3ca192bd7558780793444f73366c58d60c9d7775  \n",
       "1  2017-02-02 14:42:51.693295  fbaacb960902382e4f6c96f2d8f225c24eecadb4  \n",
       "2  2017-02-03 01:55:53.406374  785a7925363bf133a7c5413c563f331c5e02cc69  \n",
       "3  2017-01-30 23:34:02.268603  f8997252c6e5ae3d950b736e1a81160a2e937a7f  \n",
       "4  2017-02-03 13:38:37.845010  ca59bcd3da4daac52f3fcfdc0ab963f65cf421bc  "
      ]
     },
     "execution_count": 11,
     "metadata": {},
     "output_type": "execute_result"
    }
   ],
   "source": [
    "import numpy\n",
    "import pandas as pd\n",
    "\n",
    "data = pd.read_csv(\"train.csv\",encoding='latin-1', header=0)\n",
    "data.head()"
   ]
  },
  {
   "cell_type": "code",
   "execution_count": 12,
   "metadata": {},
   "outputs": [
    {
     "name": "stdout",
     "output_type": "stream",
     "text": [
      "<class 'pandas.core.frame.DataFrame'>\n",
      "RangeIndex: 700 entries, 0 to 699\n",
      "Data columns (total 9 columns):\n",
      "item_id           700 non-null int64\n",
      "category_class    700 non-null float64\n",
      "sold_price        700 non-null int64\n",
      "price             700 non-null int64\n",
      "area_name         700 non-null object\n",
      "condition         700 non-null object\n",
      "size              700 non-null int64\n",
      "listing_at        700 non-null object\n",
      "item_tag_hash     700 non-null object\n",
      "dtypes: float64(1), int64(4), object(4)\n",
      "memory usage: 49.3+ KB\n"
     ]
    }
   ],
   "source": [
    "data.tail()\n",
    "data.info()"
   ]
  },
  {
   "cell_type": "code",
   "execution_count": 13,
   "metadata": {},
   "outputs": [
    {
     "name": "stdout",
     "output_type": "stream",
     "text": [
      "Total missing values:  0\n",
      "Total rows:  700\n",
      "\n",
      "Number of labels for each column feature\n",
      "Category classes:  5\n",
      "Area :  10\n",
      "Condition:  3\n",
      "Size:  41\n",
      "Hashed item tags:  188\n"
     ]
    }
   ],
   "source": [
    "print('Total missing values: ', data.isnull().values.sum())\n",
    "print('Total rows: ',len(data))\n",
    "print()\n",
    "print('Number of labels for each column feature')\n",
    "print('Category classes: ', data['category_class'].nunique())\n",
    "print('Area : ', data['area_name'].nunique())\n",
    "print('Condition: ', data['condition'].nunique())\n",
    "print('Size: ', data['size'].nunique())\n",
    "print('Hashed item tags: ', data['item_tag_hash'].nunique())\n"
   ]
  },
  {
   "cell_type": "code",
   "execution_count": 14,
   "metadata": {},
   "outputs": [
    {
     "name": "stdout",
     "output_type": "stream",
     "text": [
      "Data distribution of continuous features v.s category_class price\n"
     ]
    },
    {
     "data": {
      "text/plain": [
       "<matplotlib.axes._subplots.AxesSubplot at 0x7fa6b34e9240>"
      ]
     },
     "execution_count": 14,
     "metadata": {},
     "output_type": "execute_result"
    },
    {
     "data": {
      "image/png": "[encoded data removed]",
      "text/plain": [
       "<matplotlib.figure.Figure at 0x7fa6b36dbf98>"
      ]
     },
     "metadata": {},
     "output_type": "display_data"
    },
    {
     "data": {
      "image/png": "[encoded data removed]",
      "text/plain": [
       "<matplotlib.figure.Figure at 0x7fa6b35f6f28>"
      ]
     },
     "metadata": {},
     "output_type": "display_data"
    },
    {
     "data": {
      "image/png": "[encoded data removed]",
      "text/plain": [
       "<matplotlib.figure.Figure at 0x7fa6b350de80>"
      ]
     },
     "metadata": {},
     "output_type": "display_data"
    }
   ],
   "source": [
    "data.category_class=data.category_class.astype(int)\n",
    "print('Data distribution of continuous features v.s category_class price')\n",
    "data.boxplot('price', 'category_class')\n",
    "data.boxplot('sold_price', 'category_class')\n",
    "data.boxplot('size', 'category_class')"
   ]
  },
  {
   "cell_type": "code",
   "execution_count": 15,
   "metadata": {},
   "outputs": [
    {
     "name": "stdout",
     "output_type": "stream",
     "text": [
      "Category class label distribution\n",
      "0    226\n",
      "2    157\n",
      "1    149\n",
      "3     86\n",
      "4     82\n",
      "Name: category_class, dtype: int64\n"
     ]
    }
   ],
   "source": [
    "print('Category class label distribution')\n",
    "print(data['category_class'].value_counts())"
   ]
  },
  {
   "cell_type": "markdown",
   "metadata": {},
   "source": []
  },
  {
   "cell_type": "code",
   "execution_count": null,
   "metadata": {},
   "outputs": [],
   "source": []
  },
  {
   "cell_type": "markdown",
   "metadata": {},
   "source": [
    "<b>Feature extraction/ engineering </b>\n",
    "\n",
    "- Item_id is an unique identifier and should not be included into the feature selection\n",
    "- Check assumption that percentage of price difference between list and sold affect the classification\n",
    "- Listing time is too detail to microsecond, check assumption that only listing hour makes an impact on the classification\n",
    "- use one-hot encoding to convert categorical features and non-numerical value\n"
   ]
  },
  {
   "cell_type": "code",
   "execution_count": 16,
   "metadata": {},
   "outputs": [
    {
     "data": {
      "text/html": [
       "<div>\n",
       "<style scoped>\n",
       "    .dataframe tbody tr th:only-of-type {\n",
       "        vertical-align: middle;\n",
       "    }\n",
       "\n",
       "    .dataframe tbody tr th {\n",
       "        vertical-align: top;\n",
       "    }\n",
       "\n",
       "    .dataframe thead th {\n",
       "        text-align: right;\n",
       "    }\n",
       "</style>\n",
       "<table border=\"1\" class=\"dataframe\">\n",
       "  <thead>\n",
       "    <tr style=\"text-align: right;\">\n",
       "      <th></th>\n",
       "      <th>item_id</th>\n",
       "      <th>category_class</th>\n",
       "      <th>sold_price</th>\n",
       "      <th>price</th>\n",
       "      <th>area_name</th>\n",
       "      <th>condition</th>\n",
       "      <th>size</th>\n",
       "      <th>listing_at</th>\n",
       "      <th>item_tag_hash</th>\n",
       "      <th>price_diff</th>\n",
       "      <th>listing_hr</th>\n",
       "    </tr>\n",
       "  </thead>\n",
       "  <tbody>\n",
       "    <tr>\n",
       "      <th>0</th>\n",
       "      <td>7966</td>\n",
       "      <td>0</td>\n",
       "      <td>1164</td>\n",
       "      <td>1162</td>\n",
       "      <td>fff</td>\n",
       "      <td>Fair</td>\n",
       "      <td>7</td>\n",
       "      <td>2017-02-01 16:11:18.978516</td>\n",
       "      <td>3ca192bd7558780793444f73366c58d60c9d7775</td>\n",
       "      <td>0.17</td>\n",
       "      <td>16</td>\n",
       "    </tr>\n",
       "    <tr>\n",
       "      <th>1</th>\n",
       "      <td>1850</td>\n",
       "      <td>0</td>\n",
       "      <td>1005</td>\n",
       "      <td>1004</td>\n",
       "      <td>fff</td>\n",
       "      <td>Fair</td>\n",
       "      <td>3</td>\n",
       "      <td>2017-02-02 14:42:51.693295</td>\n",
       "      <td>fbaacb960902382e4f6c96f2d8f225c24eecadb4</td>\n",
       "      <td>0.10</td>\n",
       "      <td>14</td>\n",
       "    </tr>\n",
       "    <tr>\n",
       "      <th>2</th>\n",
       "      <td>7582</td>\n",
       "      <td>2</td>\n",
       "      <td>944</td>\n",
       "      <td>944</td>\n",
       "      <td>aaa</td>\n",
       "      <td>Fair</td>\n",
       "      <td>5</td>\n",
       "      <td>2017-02-03 01:55:53.406374</td>\n",
       "      <td>785a7925363bf133a7c5413c563f331c5e02cc69</td>\n",
       "      <td>0.00</td>\n",
       "      <td>1</td>\n",
       "    </tr>\n",
       "    <tr>\n",
       "      <th>3</th>\n",
       "      <td>6560</td>\n",
       "      <td>0</td>\n",
       "      <td>1068</td>\n",
       "      <td>1067</td>\n",
       "      <td>fff</td>\n",
       "      <td>Fair</td>\n",
       "      <td>7</td>\n",
       "      <td>2017-01-30 23:34:02.268603</td>\n",
       "      <td>f8997252c6e5ae3d950b736e1a81160a2e937a7f</td>\n",
       "      <td>0.09</td>\n",
       "      <td>23</td>\n",
       "    </tr>\n",
       "    <tr>\n",
       "      <th>4</th>\n",
       "      <td>7368</td>\n",
       "      <td>3</td>\n",
       "      <td>1407</td>\n",
       "      <td>1407</td>\n",
       "      <td>ddd</td>\n",
       "      <td>Good</td>\n",
       "      <td>15</td>\n",
       "      <td>2017-02-03 13:38:37.845010</td>\n",
       "      <td>ca59bcd3da4daac52f3fcfdc0ab963f65cf421bc</td>\n",
       "      <td>0.00</td>\n",
       "      <td>13</td>\n",
       "    </tr>\n",
       "  </tbody>\n",
       "</table>\n",
       "</div>"
      ],
      "text/plain": [
       "   item_id  category_class  sold_price  price area_name condition  size  \\\n",
       "0     7966               0        1164   1162       fff      Fair     7   \n",
       "1     1850               0        1005   1004       fff      Fair     3   \n",
       "2     7582               2         944    944       aaa      Fair     5   \n",
       "3     6560               0        1068   1067       fff      Fair     7   \n",
       "4     7368               3        1407   1407       ddd      Good    15   \n",
       "\n",
       "                   listing_at                             item_tag_hash  \\\n",
       "0  2017-02-01 16:11:18.978516  3ca192bd7558780793444f73366c58d60c9d7775   \n",
       "1  2017-02-02 14:42:51.693295  fbaacb960902382e4f6c96f2d8f225c24eecadb4   \n",
       "2  2017-02-03 01:55:53.406374  785a7925363bf133a7c5413c563f331c5e02cc69   \n",
       "3  2017-01-30 23:34:02.268603  f8997252c6e5ae3d950b736e1a81160a2e937a7f   \n",
       "4  2017-02-03 13:38:37.845010  ca59bcd3da4daac52f3fcfdc0ab963f65cf421bc   \n",
       "\n",
       "   price_diff  listing_hr  \n",
       "0        0.17          16  \n",
       "1        0.10          14  \n",
       "2        0.00           1  \n",
       "3        0.09          23  \n",
       "4        0.00          13  "
      ]
     },
     "execution_count": 16,
     "metadata": {},
     "output_type": "execute_result"
    }
   ],
   "source": [
    "\n",
    "data['price_diff'] = data.apply(lambda row: round((row.sold_price - row.price)/row.price*100, 2), axis=1)\n",
    "data['listing_hr']= data.apply(lambda row:int(row.listing_at.split()[1].split(':')[0]), axis=1)\n",
    "data.head()"
   ]
  },
  {
   "cell_type": "code",
   "execution_count": 17,
   "metadata": {},
   "outputs": [
    {
     "data": {
      "text/plain": [
       "<matplotlib.axes._subplots.AxesSubplot at 0x7fa6b334a438>"
      ]
     },
     "execution_count": 17,
     "metadata": {},
     "output_type": "execute_result"
    },
    {
     "data": {
      "image/png": "[encoded data removed]",
      "text/plain": [
       "<matplotlib.figure.Figure at 0x7fa6b36410b8>"
      ]
     },
     "metadata": {},
     "output_type": "display_data"
    },
    {
     "data": {
      "image/png": "[encoded data removed]",
      "text/plain": [
       "<matplotlib.figure.Figure at 0x7fa6b33bd898>"
      ]
     },
     "metadata": {},
     "output_type": "display_data"
    }
   ],
   "source": [
    "data.plot.scatter(x='category_class', y='listing_hr')\n",
    "data.plot.scatter(x='category_class', y='price_diff')"
   ]
  },
  {
   "cell_type": "markdown",
   "metadata": {},
   "source": [
    "From the scatter plot, we rule out assumption 1, there's no correlation between listing hours and category class.\n",
    "We can keep price difference as a feature, a lower sold price tends to be either class 1 or class 3. <br>\n",
    "\n",
    "\n",
    "So we decide to keep only sold_price, price, price_diff, area_name, condition, size and item_tag_hash. <br>\n",
    "    We have a mix of categorical (ordinal, nominal) and continuous features: <br>\n",
    "    - nominal: area_name, item_tag_hash\n",
    "    - ordinal: condition\n",
    "    - continuous: price, sold_price, price_diff, size\n",
    "Now need to encode categorical data. For condition, just map:\n",
    "    - Like New: 3\n",
    "    - Good : 2\n",
    "    - Fair : 1\n",
    "But for area, we need to use one_hot_encoding"
   ]
  },
  {
   "cell_type": "code",
   "execution_count": 18,
   "metadata": {},
   "outputs": [],
   "source": [
    "data=data.drop(['item_id','listing_hr', 'listing_at'], axis=1)"
   ]
  },
  {
   "cell_type": "code",
   "execution_count": 19,
   "metadata": {},
   "outputs": [],
   "source": [
    "map_condition= {'Fair': 1, 'Good':2, 'Like New':3} \n",
    "data.replace(map_condition, inplace=True)"
   ]
  },
  {
   "cell_type": "code",
   "execution_count": 20,
   "metadata": {},
   "outputs": [
    {
     "data": {
      "text/html": [
       "<div>\n",
       "<style scoped>\n",
       "    .dataframe tbody tr th:only-of-type {\n",
       "        vertical-align: middle;\n",
       "    }\n",
       "\n",
       "    .dataframe tbody tr th {\n",
       "        vertical-align: top;\n",
       "    }\n",
       "\n",
       "    .dataframe thead th {\n",
       "        text-align: right;\n",
       "    }\n",
       "</style>\n",
       "<table border=\"1\" class=\"dataframe\">\n",
       "  <thead>\n",
       "    <tr style=\"text-align: right;\">\n",
       "      <th></th>\n",
       "      <th>category_class</th>\n",
       "      <th>sold_price</th>\n",
       "      <th>price</th>\n",
       "      <th>area_name</th>\n",
       "      <th>condition</th>\n",
       "      <th>size</th>\n",
       "      <th>item_tag_hash</th>\n",
       "      <th>price_diff</th>\n",
       "      <th>aaa</th>\n",
       "      <th>bbb</th>\n",
       "      <th>ccc</th>\n",
       "      <th>ddd</th>\n",
       "      <th>eee</th>\n",
       "      <th>fff</th>\n",
       "      <th>ggg</th>\n",
       "      <th>hhh</th>\n",
       "      <th>jjj</th>\n",
       "      <th>kkk</th>\n",
       "    </tr>\n",
       "  </thead>\n",
       "  <tbody>\n",
       "    <tr>\n",
       "      <th>0</th>\n",
       "      <td>0</td>\n",
       "      <td>1164</td>\n",
       "      <td>1162</td>\n",
       "      <td>fff</td>\n",
       "      <td>1</td>\n",
       "      <td>7</td>\n",
       "      <td>3ca192bd7558780793444f73366c58d60c9d7775</td>\n",
       "      <td>0.17</td>\n",
       "      <td>0</td>\n",
       "      <td>0</td>\n",
       "      <td>0</td>\n",
       "      <td>0</td>\n",
       "      <td>0</td>\n",
       "      <td>1</td>\n",
       "      <td>0</td>\n",
       "      <td>0</td>\n",
       "      <td>0</td>\n",
       "      <td>0</td>\n",
       "    </tr>\n",
       "    <tr>\n",
       "      <th>1</th>\n",
       "      <td>0</td>\n",
       "      <td>1005</td>\n",
       "      <td>1004</td>\n",
       "      <td>fff</td>\n",
       "      <td>1</td>\n",
       "      <td>3</td>\n",
       "      <td>fbaacb960902382e4f6c96f2d8f225c24eecadb4</td>\n",
       "      <td>0.10</td>\n",
       "      <td>0</td>\n",
       "      <td>0</td>\n",
       "      <td>0</td>\n",
       "      <td>0</td>\n",
       "      <td>0</td>\n",
       "      <td>1</td>\n",
       "      <td>0</td>\n",
       "      <td>0</td>\n",
       "      <td>0</td>\n",
       "      <td>0</td>\n",
       "    </tr>\n",
       "    <tr>\n",
       "      <th>2</th>\n",
       "      <td>2</td>\n",
       "      <td>944</td>\n",
       "      <td>944</td>\n",
       "      <td>aaa</td>\n",
       "      <td>1</td>\n",
       "      <td>5</td>\n",
       "      <td>785a7925363bf133a7c5413c563f331c5e02cc69</td>\n",
       "      <td>0.00</td>\n",
       "      <td>1</td>\n",
       "      <td>0</td>\n",
       "      <td>0</td>\n",
       "      <td>0</td>\n",
       "      <td>0</td>\n",
       "      <td>0</td>\n",
       "      <td>0</td>\n",
       "      <td>0</td>\n",
       "      <td>0</td>\n",
       "      <td>0</td>\n",
       "    </tr>\n",
       "    <tr>\n",
       "      <th>3</th>\n",
       "      <td>0</td>\n",
       "      <td>1068</td>\n",
       "      <td>1067</td>\n",
       "      <td>fff</td>\n",
       "      <td>1</td>\n",
       "      <td>7</td>\n",
       "      <td>f8997252c6e5ae3d950b736e1a81160a2e937a7f</td>\n",
       "      <td>0.09</td>\n",
       "      <td>0</td>\n",
       "      <td>0</td>\n",
       "      <td>0</td>\n",
       "      <td>0</td>\n",
       "      <td>0</td>\n",
       "      <td>1</td>\n",
       "      <td>0</td>\n",
       "      <td>0</td>\n",
       "      <td>0</td>\n",
       "      <td>0</td>\n",
       "    </tr>\n",
       "    <tr>\n",
       "      <th>4</th>\n",
       "      <td>3</td>\n",
       "      <td>1407</td>\n",
       "      <td>1407</td>\n",
       "      <td>ddd</td>\n",
       "      <td>2</td>\n",
       "      <td>15</td>\n",
       "      <td>ca59bcd3da4daac52f3fcfdc0ab963f65cf421bc</td>\n",
       "      <td>0.00</td>\n",
       "      <td>0</td>\n",
       "      <td>0</td>\n",
       "      <td>0</td>\n",
       "      <td>1</td>\n",
       "      <td>0</td>\n",
       "      <td>0</td>\n",
       "      <td>0</td>\n",
       "      <td>0</td>\n",
       "      <td>0</td>\n",
       "      <td>0</td>\n",
       "    </tr>\n",
       "  </tbody>\n",
       "</table>\n",
       "</div>"
      ],
      "text/plain": [
       "   category_class  sold_price  price area_name  condition  size  \\\n",
       "0               0        1164   1162       fff          1     7   \n",
       "1               0        1005   1004       fff          1     3   \n",
       "2               2         944    944       aaa          1     5   \n",
       "3               0        1068   1067       fff          1     7   \n",
       "4               3        1407   1407       ddd          2    15   \n",
       "\n",
       "                              item_tag_hash  price_diff  aaa  bbb  ccc  ddd  \\\n",
       "0  3ca192bd7558780793444f73366c58d60c9d7775        0.17    0    0    0    0   \n",
       "1  fbaacb960902382e4f6c96f2d8f225c24eecadb4        0.10    0    0    0    0   \n",
       "2  785a7925363bf133a7c5413c563f331c5e02cc69        0.00    1    0    0    0   \n",
       "3  f8997252c6e5ae3d950b736e1a81160a2e937a7f        0.09    0    0    0    0   \n",
       "4  ca59bcd3da4daac52f3fcfdc0ab963f65cf421bc        0.00    0    0    0    1   \n",
       "\n",
       "   eee  fff  ggg  hhh  jjj  kkk  \n",
       "0    0    1    0    0    0    0  \n",
       "1    0    1    0    0    0    0  \n",
       "2    0    0    0    0    0    0  \n",
       "3    0    1    0    0    0    0  \n",
       "4    0    0    0    0    0    0  "
      ]
     },
     "execution_count": 20,
     "metadata": {},
     "output_type": "execute_result"
    }
   ],
   "source": [
    "from sklearn.preprocessing import LabelBinarizer\n",
    "datac=data.copy()\n",
    "\n",
    "lb = LabelBinarizer()\n",
    "lb_results = lb.fit_transform(datac['area_name'])\n",
    "lb_results_df = pd.DataFrame(lb_results, columns=lb.classes_)\n",
    "\n",
    "data = pd.concat([data, lb_results_df], axis=1)\n",
    "data.head()"
   ]
  },
  {
   "cell_type": "code",
   "execution_count": 21,
   "metadata": {},
   "outputs": [
    {
     "name": "stdout",
     "output_type": "stream",
     "text": [
      "<class 'pandas.core.frame.DataFrame'>\n",
      "RangeIndex: 700 entries, 0 to 699\n",
      "Data columns (total 16 columns):\n",
      "category_class    700 non-null int64\n",
      "sold_price        700 non-null int64\n",
      "price             700 non-null int64\n",
      "condition         700 non-null int64\n",
      "size              700 non-null int64\n",
      "price_diff        700 non-null float64\n",
      "aaa               700 non-null int64\n",
      "bbb               700 non-null int64\n",
      "ccc               700 non-null int64\n",
      "ddd               700 non-null int64\n",
      "eee               700 non-null int64\n",
      "fff               700 non-null int64\n",
      "ggg               700 non-null int64\n",
      "hhh               700 non-null int64\n",
      "jjj               700 non-null int64\n",
      "kkk               700 non-null int64\n",
      "dtypes: float64(1), int64(15)\n",
      "memory usage: 87.6 KB\n"
     ]
    }
   ],
   "source": [
    "data.category_class=data.category_class.astype(int)\n",
    "data=data.drop(['area_name', 'item_tag_hash'],axis=1)\n",
    "data.info()"
   ]
  },
  {
   "cell_type": "code",
   "execution_count": 22,
   "metadata": {},
   "outputs": [
    {
     "data": {
      "text/html": [
       "<div>\n",
       "<style scoped>\n",
       "    .dataframe tbody tr th:only-of-type {\n",
       "        vertical-align: middle;\n",
       "    }\n",
       "\n",
       "    .dataframe tbody tr th {\n",
       "        vertical-align: top;\n",
       "    }\n",
       "\n",
       "    .dataframe thead th {\n",
       "        text-align: right;\n",
       "    }\n",
       "</style>\n",
       "<table border=\"1\" class=\"dataframe\">\n",
       "  <thead>\n",
       "    <tr style=\"text-align: right;\">\n",
       "      <th></th>\n",
       "      <th>category_class</th>\n",
       "      <th>sold_price</th>\n",
       "      <th>price</th>\n",
       "      <th>condition</th>\n",
       "      <th>size</th>\n",
       "      <th>price_diff</th>\n",
       "      <th>aaa</th>\n",
       "      <th>bbb</th>\n",
       "      <th>ccc</th>\n",
       "      <th>ddd</th>\n",
       "      <th>eee</th>\n",
       "      <th>fff</th>\n",
       "      <th>ggg</th>\n",
       "      <th>hhh</th>\n",
       "      <th>jjj</th>\n",
       "      <th>kkk</th>\n",
       "    </tr>\n",
       "  </thead>\n",
       "  <tbody>\n",
       "    <tr>\n",
       "      <th>0</th>\n",
       "      <td>0</td>\n",
       "      <td>1164</td>\n",
       "      <td>1162</td>\n",
       "      <td>1</td>\n",
       "      <td>7</td>\n",
       "      <td>0.17</td>\n",
       "      <td>0</td>\n",
       "      <td>0</td>\n",
       "      <td>0</td>\n",
       "      <td>0</td>\n",
       "      <td>0</td>\n",
       "      <td>1</td>\n",
       "      <td>0</td>\n",
       "      <td>0</td>\n",
       "      <td>0</td>\n",
       "      <td>0</td>\n",
       "    </tr>\n",
       "    <tr>\n",
       "      <th>1</th>\n",
       "      <td>0</td>\n",
       "      <td>1005</td>\n",
       "      <td>1004</td>\n",
       "      <td>1</td>\n",
       "      <td>3</td>\n",
       "      <td>0.10</td>\n",
       "      <td>0</td>\n",
       "      <td>0</td>\n",
       "      <td>0</td>\n",
       "      <td>0</td>\n",
       "      <td>0</td>\n",
       "      <td>1</td>\n",
       "      <td>0</td>\n",
       "      <td>0</td>\n",
       "      <td>0</td>\n",
       "      <td>0</td>\n",
       "    </tr>\n",
       "    <tr>\n",
       "      <th>2</th>\n",
       "      <td>2</td>\n",
       "      <td>944</td>\n",
       "      <td>944</td>\n",
       "      <td>1</td>\n",
       "      <td>5</td>\n",
       "      <td>0.00</td>\n",
       "      <td>1</td>\n",
       "      <td>0</td>\n",
       "      <td>0</td>\n",
       "      <td>0</td>\n",
       "      <td>0</td>\n",
       "      <td>0</td>\n",
       "      <td>0</td>\n",
       "      <td>0</td>\n",
       "      <td>0</td>\n",
       "      <td>0</td>\n",
       "    </tr>\n",
       "    <tr>\n",
       "      <th>3</th>\n",
       "      <td>0</td>\n",
       "      <td>1068</td>\n",
       "      <td>1067</td>\n",
       "      <td>1</td>\n",
       "      <td>7</td>\n",
       "      <td>0.09</td>\n",
       "      <td>0</td>\n",
       "      <td>0</td>\n",
       "      <td>0</td>\n",
       "      <td>0</td>\n",
       "      <td>0</td>\n",
       "      <td>1</td>\n",
       "      <td>0</td>\n",
       "      <td>0</td>\n",
       "      <td>0</td>\n",
       "      <td>0</td>\n",
       "    </tr>\n",
       "    <tr>\n",
       "      <th>4</th>\n",
       "      <td>3</td>\n",
       "      <td>1407</td>\n",
       "      <td>1407</td>\n",
       "      <td>2</td>\n",
       "      <td>15</td>\n",
       "      <td>0.00</td>\n",
       "      <td>0</td>\n",
       "      <td>0</td>\n",
       "      <td>0</td>\n",
       "      <td>1</td>\n",
       "      <td>0</td>\n",
       "      <td>0</td>\n",
       "      <td>0</td>\n",
       "      <td>0</td>\n",
       "      <td>0</td>\n",
       "      <td>0</td>\n",
       "    </tr>\n",
       "  </tbody>\n",
       "</table>\n",
       "</div>"
      ],
      "text/plain": [
       "   category_class  sold_price  price  condition  size  price_diff  aaa  bbb  \\\n",
       "0               0        1164   1162          1     7        0.17    0    0   \n",
       "1               0        1005   1004          1     3        0.10    0    0   \n",
       "2               2         944    944          1     5        0.00    1    0   \n",
       "3               0        1068   1067          1     7        0.09    0    0   \n",
       "4               3        1407   1407          2    15        0.00    0    0   \n",
       "\n",
       "   ccc  ddd  eee  fff  ggg  hhh  jjj  kkk  \n",
       "0    0    0    0    1    0    0    0    0  \n",
       "1    0    0    0    1    0    0    0    0  \n",
       "2    0    0    0    0    0    0    0    0  \n",
       "3    0    0    0    1    0    0    0    0  \n",
       "4    0    1    0    0    0    0    0    0  "
      ]
     },
     "execution_count": 22,
     "metadata": {},
     "output_type": "execute_result"
    }
   ],
   "source": [
    "data.head()"
   ]
  },
  {
   "cell_type": "code",
   "execution_count": null,
   "metadata": {},
   "outputs": [],
   "source": []
  },
  {
   "cell_type": "markdown",
   "metadata": {},
   "source": [
    "\n",
    "<b> Model Training </b><br>\n",
    "After some preliminary data analysis, I decide to go with Random Forest because it is simple to understand, provides higher accuracy in practice and robust to overfitting. <br>\n",
    "However, it tends to bias toward the majority training class, so need to set class_weight to balanced\n"
   ]
  },
  {
   "cell_type": "code",
   "execution_count": 30,
   "metadata": {},
   "outputs": [
    {
     "name": "stdout",
     "output_type": "stream",
     "text": [
      "(700,)\n",
      "(700, 15)\n"
     ]
    }
   ],
   "source": [
    "import numpy as np\n",
    "labels= np.array(data.category_class)\n",
    "print(labels.shape)\n",
    "features= data.drop(['category_class'], axis=1)\n",
    "print(features.shape)"
   ]
  },
  {
   "cell_type": "code",
   "execution_count": 52,
   "metadata": {},
   "outputs": [
    {
     "name": "stdout",
     "output_type": "stream",
     "text": [
      "(525, 15)\n",
      "(525,)\n"
     ]
    },
    {
     "data": {
      "text/plain": [
       "RandomForestClassifier(bootstrap=True, class_weight='balanced',\n",
       "            criterion='gini', max_depth=None, max_features='auto',\n",
       "            max_leaf_nodes=None, min_impurity_decrease=0.0,\n",
       "            min_impurity_split=None, min_samples_leaf=1,\n",
       "            min_samples_split=2, min_weight_fraction_leaf=0.0,\n",
       "            n_estimators=10, n_jobs=1, oob_score=False, random_state=42,\n",
       "            verbose=0, warm_start=False)"
      ]
     },
     "execution_count": 52,
     "metadata": {},
     "output_type": "execute_result"
    }
   ],
   "source": [
    "\n",
    "from sklearn.model_selection import train_test_split\n",
    "from sklearn.ensemble import RandomForestClassifier\n",
    "\n",
    "train_x, test_x, train_y, test_y = train_test_split(features, labels, test_size = 0.25, random_state = 42, stratify=labels)\n",
    "\n",
    "print(train_x.shape)\n",
    "print(train_y.shape)\n",
    "\n",
    "rdf = RandomForestClassifier(bootstrap=True, class_weight='balanced', criterion='gini',\n",
    "            random_state=42)\n",
    "rdf.fit(train_x, train_y)"
   ]
  },
  {
   "cell_type": "raw",
   "metadata": {},
   "source": [
    "#model evaluation\n"
   ]
  },
  {
   "cell_type": "code",
   "execution_count": 50,
   "metadata": {},
   "outputs": [
    {
     "ename": "ValueError",
     "evalue": "Classification metrics can't handle a mix of multiclass and continuous targets",
     "output_type": "error",
     "traceback": [
      "\u001b[0;31m---------------------------------------------------------------------------\u001b[0m",
      "\u001b[0;31mValueError\u001b[0m                                Traceback (most recent call last)",
      "\u001b[0;32m<ipython-input-50-66430eadf1cc>\u001b[0m in \u001b[0;36m<module>\u001b[0;34m()\u001b[0m\n\u001b[1;32m      2\u001b[0m \u001b[0;34m\u001b[0m\u001b[0m\n\u001b[1;32m      3\u001b[0m \u001b[0mpred_y\u001b[0m \u001b[0;34m=\u001b[0m \u001b[0mrf\u001b[0m\u001b[0;34m.\u001b[0m\u001b[0mpredict\u001b[0m\u001b[0;34m(\u001b[0m\u001b[0mtest_x\u001b[0m\u001b[0;34m)\u001b[0m\u001b[0;34m\u001b[0m\u001b[0m\n\u001b[0;32m----> 4\u001b[0;31m \u001b[0mscore\u001b[0m \u001b[0;34m=\u001b[0m \u001b[0mf1_score\u001b[0m\u001b[0;34m(\u001b[0m\u001b[0mtest_y\u001b[0m\u001b[0;34m,\u001b[0m \u001b[0mpred_y\u001b[0m\u001b[0;34m,\u001b[0m \u001b[0maverage\u001b[0m\u001b[0;34m=\u001b[0m\u001b[0;34m'macro'\u001b[0m\u001b[0;34m)\u001b[0m\u001b[0;34m\u001b[0m\u001b[0m\n\u001b[0m",
      "\u001b[0;32m~/anaconda3/lib/python3.6/site-packages/sklearn/metrics/classification.py\u001b[0m in \u001b[0;36mf1_score\u001b[0;34m(y_true, y_pred, labels, pos_label, average, sample_weight)\u001b[0m\n\u001b[1;32m    712\u001b[0m     return fbeta_score(y_true, y_pred, 1, labels=labels,\n\u001b[1;32m    713\u001b[0m                        \u001b[0mpos_label\u001b[0m\u001b[0;34m=\u001b[0m\u001b[0mpos_label\u001b[0m\u001b[0;34m,\u001b[0m \u001b[0maverage\u001b[0m\u001b[0;34m=\u001b[0m\u001b[0maverage\u001b[0m\u001b[0;34m,\u001b[0m\u001b[0;34m\u001b[0m\u001b[0m\n\u001b[0;32m--> 714\u001b[0;31m                        sample_weight=sample_weight)\n\u001b[0m\u001b[1;32m    715\u001b[0m \u001b[0;34m\u001b[0m\u001b[0m\n\u001b[1;32m    716\u001b[0m \u001b[0;34m\u001b[0m\u001b[0m\n",
      "\u001b[0;32m~/anaconda3/lib/python3.6/site-packages/sklearn/metrics/classification.py\u001b[0m in \u001b[0;36mfbeta_score\u001b[0;34m(y_true, y_pred, beta, labels, pos_label, average, sample_weight)\u001b[0m\n\u001b[1;32m    826\u001b[0m                                                  \u001b[0maverage\u001b[0m\u001b[0;34m=\u001b[0m\u001b[0maverage\u001b[0m\u001b[0;34m,\u001b[0m\u001b[0;34m\u001b[0m\u001b[0m\n\u001b[1;32m    827\u001b[0m                                                  \u001b[0mwarn_for\u001b[0m\u001b[0;34m=\u001b[0m\u001b[0;34m(\u001b[0m\u001b[0;34m'f-score'\u001b[0m\u001b[0;34m,\u001b[0m\u001b[0;34m)\u001b[0m\u001b[0;34m,\u001b[0m\u001b[0;34m\u001b[0m\u001b[0m\n\u001b[0;32m--> 828\u001b[0;31m                                                  sample_weight=sample_weight)\n\u001b[0m\u001b[1;32m    829\u001b[0m     \u001b[0;32mreturn\u001b[0m \u001b[0mf\u001b[0m\u001b[0;34m\u001b[0m\u001b[0m\n\u001b[1;32m    830\u001b[0m \u001b[0;34m\u001b[0m\u001b[0m\n",
      "\u001b[0;32m~/anaconda3/lib/python3.6/site-packages/sklearn/metrics/classification.py\u001b[0m in \u001b[0;36mprecision_recall_fscore_support\u001b[0;34m(y_true, y_pred, beta, labels, pos_label, average, warn_for, sample_weight)\u001b[0m\n\u001b[1;32m   1023\u001b[0m         \u001b[0;32mraise\u001b[0m \u001b[0mValueError\u001b[0m\u001b[0;34m(\u001b[0m\u001b[0;34m\"beta should be >0 in the F-beta score\"\u001b[0m\u001b[0;34m)\u001b[0m\u001b[0;34m\u001b[0m\u001b[0m\n\u001b[1;32m   1024\u001b[0m \u001b[0;34m\u001b[0m\u001b[0m\n\u001b[0;32m-> 1025\u001b[0;31m     \u001b[0my_type\u001b[0m\u001b[0;34m,\u001b[0m \u001b[0my_true\u001b[0m\u001b[0;34m,\u001b[0m \u001b[0my_pred\u001b[0m \u001b[0;34m=\u001b[0m \u001b[0m_check_targets\u001b[0m\u001b[0;34m(\u001b[0m\u001b[0my_true\u001b[0m\u001b[0;34m,\u001b[0m \u001b[0my_pred\u001b[0m\u001b[0;34m)\u001b[0m\u001b[0;34m\u001b[0m\u001b[0m\n\u001b[0m\u001b[1;32m   1026\u001b[0m     \u001b[0mpresent_labels\u001b[0m \u001b[0;34m=\u001b[0m \u001b[0munique_labels\u001b[0m\u001b[0;34m(\u001b[0m\u001b[0my_true\u001b[0m\u001b[0;34m,\u001b[0m \u001b[0my_pred\u001b[0m\u001b[0;34m)\u001b[0m\u001b[0;34m\u001b[0m\u001b[0m\n\u001b[1;32m   1027\u001b[0m \u001b[0;34m\u001b[0m\u001b[0m\n",
      "\u001b[0;32m~/anaconda3/lib/python3.6/site-packages/sklearn/metrics/classification.py\u001b[0m in \u001b[0;36m_check_targets\u001b[0;34m(y_true, y_pred)\u001b[0m\n\u001b[1;32m     79\u001b[0m     \u001b[0;32mif\u001b[0m \u001b[0mlen\u001b[0m\u001b[0;34m(\u001b[0m\u001b[0my_type\u001b[0m\u001b[0;34m)\u001b[0m \u001b[0;34m>\u001b[0m \u001b[0;36m1\u001b[0m\u001b[0;34m:\u001b[0m\u001b[0;34m\u001b[0m\u001b[0m\n\u001b[1;32m     80\u001b[0m         raise ValueError(\"Classification metrics can't handle a mix of {0} \"\n\u001b[0;32m---> 81\u001b[0;31m                          \"and {1} targets\".format(type_true, type_pred))\n\u001b[0m\u001b[1;32m     82\u001b[0m \u001b[0;34m\u001b[0m\u001b[0m\n\u001b[1;32m     83\u001b[0m     \u001b[0;31m# We can't have more than one value on y_type => The set is no more needed\u001b[0m\u001b[0;34m\u001b[0m\u001b[0;34m\u001b[0m\u001b[0m\n",
      "\u001b[0;31mValueError\u001b[0m: Classification metrics can't handle a mix of multiclass and continuous targets"
     ]
    }
   ],
   "source": [
    "from sklearn.metrics import f1_score\n",
    "\n",
    "pred_y = rf.predict(test_x)\n",
    "score = f1_score(test_y, pred_y, average='macro')"
   ]
  },
  {
   "cell_type": "code",
   "execution_count": null,
   "metadata": {},
   "outputs": [],
   "source": []
  }
 ],
 "metadata": {
  "kernelspec": {
   "display_name": "Python 3",
   "language": "python",
   "name": "python3"
  },
  "language_info": {
   "codemirror_mode": {
    "name": "ipython",
    "version": 3
   },
   "file_extension": ".py",
   "mimetype": "text/x-python",
   "name": "python",
   "nbconvert_exporter": "python",
   "pygments_lexer": "ipython3",
   "version": "3.6.4"
  }
 },
 "nbformat": 4,
 "nbformat_minor": 2
}
