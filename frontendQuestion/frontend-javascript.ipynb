{
 "cells": [
  {
   "cell_type": "markdown",
   "metadata": {},
   "source": [
    "<h1> Javascript </h1>\n",
    "\n",
    "<pre>\n",
    "<strong>Primitive types: </strong>\n",
    "Number, string, boolean, null, undefined\n",
    "\n",
    "Object is the prototype of all data types:\n",
    "Object, string, number, boolean, array,\n",
    "function, arguments,math, date, regexp,error\n",
    "\n",
    "</pre>\n",
    "\n",
    "<strong> Diff btw stack/heap </strong>\n",
    "stack allocation decide by the system, implement actual stack data structure, you know the memory need for run time\n",
    "heap is dynamic memory set aside by the programmer, do not know the actual memory\n",
    "\n",
    "    "
   ]
  },
  {
   "cell_type": "markdown",
   "metadata": {},
   "source": [
    "1) diff btw undefined & not defined\n",
    "    not defined- did not delcare type\n",
    "    undefined- declare type but no value\n",
    "\n",
    "2) what is closure?\n",
    "function inside a function, inside function can use variables inside the parent function\n",
    "\n",
    "3) write a function for mult(a)(b)\n",
    "<pre>\n",
    "mul=(a)=>{\n",
    "    return mul2=(b)=>{\n",
    "        a*b\n",
    "    }\n",
    "}\n",
    "</pre>\n",
    "\n",
    "4) How to clear javascript array?\n",
    "a) a=[]\n",
    "b) a.length=0\n",
    "\n",
    "5) How to check if object is array\n",
    "    Array.isArray()\n",
    "    Object.prototype.toString.call()\n",
    " \n",
    "6) Bind/call/apply\n",
    "    bind to context, later execute\n",
    "    call with variable- multiple arguments, immediately executed\n",
    "    apply with variable 1 argument, immediately executed\n",
    "\n",
    "\n",
    "7) Let, Const, Var\n",
    "    Let is scope to nearest enclosing blockb=, cannot be used outside the scope\n",
    "    while var is function scope\n",
    "\n",
    "8) CORS\n",
    "    cross site request forgery, exploit cookies data to send request to cross origin\n",
    "\n",
    "10) Talk about ES6\n",
    "\n",
    "11) diff btw preventDefault, stopPropogation\n",
    "       preventDefault- stops browser default behaviour\n",
    "       stopPropogation- \n"
   ]
  },
  {
   "cell_type": "code",
   "execution_count": null,
   "metadata": {},
   "outputs": [],
   "source": [
    "function click(event){\n",
    "    alert(event.target.value)\n",
    "}\n",
    "\n",
    "write async\n"
   ]
  },
  {
   "cell_type": "markdown",
   "metadata": {},
   "source": [
    "\n",
    "<h3> Object create/ inheritance </h3>\n",
    "<pre>\n",
    "\n",
    "<strong> create class </strong>\n",
    "\n",
    "function Person(name, age){\n",
    "    this.name=name,\n",
    "    this.age=age}\n",
    "    \n",
    "Person.prototype.say={\n",
    "    constructor: Person,\n",
    "    sayName=()=>\n",
    "        this.name\n",
    "}\n",
    "\n",
    "<strong> Inheritance </strong>\n",
    "\n",
    "func superType(name){\n",
    "    this.name='j'\n",
    "}\n",
    "\n",
    "func sub(){\n",
    "    this.supertype=suerType;\n",
    "    this.supertype(name)= name\n",
    "}\n",
    "\n",
    "func sub(){\n",
    "    superType.call(this, name)\n",
    "    \n",
    "\n",
    "</pre>"
   ]
  },
  {
   "cell_type": "code",
   "execution_count": null,
   "metadata": {},
   "outputs": [],
   "source": []
  }
 ],
 "metadata": {
  "kernelspec": {
   "display_name": "Python 3",
   "language": "python",
   "name": "python3"
  },
  "language_info": {
   "codemirror_mode": {
    "name": "ipython",
    "version": 3
   },
   "file_extension": ".py",
   "mimetype": "text/x-python",
   "name": "python",
   "nbconvert_exporter": "python",
   "pygments_lexer": "ipython3",
   "version": "3.6.4"
  }
 },
 "nbformat": 4,
 "nbformat_minor": 2
}
