{
 "cells": [
  {
   "cell_type": "markdown",
   "metadata": {},
   "source": [
    "<h1> Chapter3- Algorithm Analysis </h1>\n"
   ]
  },
  {
   "cell_type": "markdown",
   "metadata": {},
   "source": [
    "<h2> 1. Primitive operations </h2>\n",
    "<br/>\n",
    "To analyze the running time, we perform analysis on the high level of the algorithm. A primitive operation corresponds to a low level instruction with a constant time. Instead of calculating the actual time, we count the number of primitive operations executed. An assumption is that different primitive types have a roughly similar running time.\n",
    "\n",
    "We use f(n) size of input to characterizes the number of primitive operations that is required given an input of size n. There are 7 functions:"
   ]
  },
  {
   "cell_type": "markdown",
   "metadata": {},
   "source": [
    "<pre>\n",
    "1. Constant\n",
    "    f(n)= c\n",
    "2. Linear\n",
    "    f(n) = cn\n",
    "3. Log\n",
    "    f(n) = logb(n) = log2(n) = log(n)\n",
    "4. nlogn\n",
    "    f(n) = n.log(n)\n",
    "5. Quadratic\n",
    "    f(n)= n^2\n",
    "6. Cubic and Polonomial\n",
    "    f(n)= c^n\n",
    "    f(n)= a0 + a1.n + a2.n^2 + a3.n^3 + ..... ad.n^d\n",
    "7. Exponential\n",
    "    f(n)= a^n\n",
    "    \n",
    "    \n",
    "<strong> constant < logn < linear < nlogn < quadratic < cubic < exponential </strong>\n",
    "</pre>"
   ]
  },
  {
   "cell_type": "markdown",
   "metadata": {},
   "source": [
    "<h2> 2. Asymptotic analysis </h2>\n",
    "<br/>\n",
    "\n",
    "It is often enough to know running time of an algorithm grows proportionally to n. We use mathematical notations to consider functions disregard of constant but considering only the main factor that determines the growth rate in terms of n  "
   ]
  },
  {
   "cell_type": "markdown",
   "metadata": {},
   "source": [
    "<h4> Big O notation </h4>\n",
    "Less than equal to \n",
    "\n",
    "<pre>\n",
    "Provides a way to simplify function, bound the function with another function g(n) as in will always equal to or less than the bounded function as n grows asymptotic.\n",
    "\n",
    "f(n) <= c.g(n)\n",
    "f(n) is O(g(n))\n",
    "\n",
    "for example:\n",
    "2n + 100log(n) is O(n)\n",
    "\n",
    "Justify:\n",
    "2n + 100log(n) <= 102.n\n",
    "where c=102, n>=n0=1\n",
    "\n",
    "</pre>\n",
    "\n",
    "<h4> Big omega </h4>\n",
    "Greater than or equal to \n",
    "<pre>\n",
    "    f(n) >= c.g(n)\n",
    "</pre>\n",
    "\n",
    "\n",
    "<h4> Big theta </h4>\n",
    "Equal\n",
    "\n",
    "<pre>\n",
    "c1.g(n)  <= f(n) <= c2.g(n) for n>n0\n",
    "\n",
    "\n",
    "</pre>\n",
    "\n",
    "\n"
   ]
  },
  {
   "cell_type": "markdown",
   "metadata": {},
   "source": [
    "<h2> 3. Python examples </h2>\n",
    "\n"
   ]
  },
  {
   "cell_type": "markdown",
   "metadata": {},
   "source": [
    "<h3> Contant Time </h3>\n",
    "<li> Length of array: O(1) </li>\n",
    "<li> Element of array a[i] </li>\n",
    "\n",
    "<h3> Logn </h3>\n",
    "\n"
   ]
  },
  {
   "cell_type": "code",
   "execution_count": null,
   "metadata": {},
   "outputs": [],
   "source": []
  }
 ],
 "metadata": {
  "kernelspec": {
   "display_name": "Python 3",
   "language": "python",
   "name": "python3"
  },
  "language_info": {
   "codemirror_mode": {
    "name": "ipython",
    "version": 3
   },
   "file_extension": ".py",
   "mimetype": "text/x-python",
   "name": "python",
   "nbconvert_exporter": "python",
   "pygments_lexer": "ipython3",
   "version": "3.6.4"
  }
 },
 "nbformat": 4,
 "nbformat_minor": 2
}
