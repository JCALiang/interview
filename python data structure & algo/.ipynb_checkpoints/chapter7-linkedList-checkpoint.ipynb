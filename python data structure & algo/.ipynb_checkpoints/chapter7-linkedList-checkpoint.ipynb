{
 "cells": [
  {
   "cell_type": "markdown",
   "metadata": {},
   "source": [
    "<h1> Linked List </h1>"
   ]
  },
  {
   "cell_type": "markdown",
   "metadata": {},
   "source": [
    "<h3> Stack Linked List </h3>"
   ]
  },
  {
   "cell_type": "code",
   "execution_count": 21,
   "metadata": {},
   "outputs": [],
   "source": [
    "class stack:\n",
    "    class node:\n",
    "        def __init__(self, data, nextt):\n",
    "            self._data= data\n",
    "            self._next= nextt\n",
    "        \n",
    "    def __init__(self):\n",
    "        self._head= None\n",
    "        self._size=0\n",
    "        \n",
    "        \n",
    "    def push(self, nodeData):\n",
    "        if self._size==0:\n",
    "            newNode=self.node(nodeData, None)\n",
    "        else:\n",
    "            newNode= self.node(nodeData, self._head)\n",
    "        self._head= newNode\n",
    "        self._size+=1\n",
    "    \n",
    "    def pop(self):\n",
    "        if self._size == 0:\n",
    "            return None\n",
    "        \n",
    "        popNode= self._head._data\n",
    "        self._head= self._head._next\n",
    "        self._size-=1\n",
    "        return popNode"
   ]
  },
  {
   "cell_type": "code",
   "execution_count": 26,
   "metadata": {},
   "outputs": [],
   "source": [
    "s=stack()\n",
    "s._head\n",
    "s.push(1)\n",
    "s.push(2)\n",
    "s.push(3)\n",
    "s._size\n",
    "s.pop()\n",
    "s.pop()\n",
    "s.pop()\n",
    "s.pop()"
   ]
  },
  {
   "cell_type": "markdown",
   "metadata": {},
   "source": [
    "<h3> Queue Linked List </h3>"
   ]
  },
  {
   "cell_type": "code",
   "execution_count": 48,
   "metadata": {},
   "outputs": [],
   "source": [
    "class Queue:\n",
    "    class _node:\n",
    "        def __init__(self, e, n):\n",
    "            self._e=e\n",
    "            self._next=n\n",
    "            \n",
    "    def __init__(self):\n",
    "        self._head= None\n",
    "        self._tail= None\n",
    "        self._size= 0\n",
    "        \n",
    "    def enqueue(self, n):\n",
    "        newNode= self._node(n, None)\n",
    "        \n",
    "        if self._size==0:\n",
    "            self._head = newNode\n",
    "            self._tail= newNode\n",
    "        else:\n",
    "            self._tail._next= newNode\n",
    "            self._tail=newNode\n",
    "        self._size+=1\n",
    "    \n",
    "    def dequeue(self):\n",
    "        if self._size ==0:\n",
    "            return None\n",
    "        old= self._head._e\n",
    "        self._head= self._head._next\n",
    "        self._size-=1\n",
    "        return old"
   ]
  },
  {
   "cell_type": "code",
   "execution_count": 47,
   "metadata": {},
   "outputs": [
    {
     "data": {
      "text/plain": [
       "3"
      ]
     },
     "execution_count": 47,
     "metadata": {},
     "output_type": "execute_result"
    }
   ],
   "source": [
    "q= Queue()\n",
    "q.enqueue(1)\n",
    "q.enqueue(2)\n",
    "q.enqueue(3)\n",
    "q._size\n",
    "q.dequeue()\n",
    "q.dequeue()\n",
    "q.dequeue()"
   ]
  },
  {
   "cell_type": "markdown",
   "metadata": {},
   "source": [
    "<h3> CircularQueue Linked List </h3>\n",
    "<h3> Doubly Linked List </h3>\n",
    "<h3> Positional Linked List </h3>"
   ]
  },
  {
   "cell_type": "code",
   "execution_count": 102,
   "metadata": {},
   "outputs": [],
   "source": [
    "class CQueue:\n",
    "    class _node:\n",
    "        def __init__(self, e, n):\n",
    "            self._e=e\n",
    "            self._next=n\n",
    "            \n",
    "    def __init__(self):\n",
    "        self._tail= None\n",
    "        self._size= 0\n",
    "        \n",
    "    def enqueue(self,e):\n",
    "        new= self._node(e, None)\n",
    "        #make it circular\n",
    "        if self._size ==0:\n",
    "            new._next= new\n",
    "    \n",
    "        else:\n",
    "            new._next=self._tail._next\n",
    "            self._tail._next=new\n",
    "                \n",
    "        self._tail=new\n",
    "        self._size+=1\n",
    "        \n",
    "    def dequeue(self):\n",
    "        if self._size==0:\n",
    "            return None\n",
    "        if self._size==1:\n",
    "            popNode= self._tail\n",
    "            self._tail=None\n",
    "            return popNode._e\n",
    "        else:\n",
    "            popNode= self._tail._next\n",
    "            self._tail._next= self._tail._next._next\n",
    "            self._size-=1\n",
    "            return popNode._e\n",
    "        \n",
    "        "
   ]
  },
  {
   "cell_type": "code",
   "execution_count": 103,
   "metadata": {},
   "outputs": [
    {
     "data": {
      "text/plain": [
       "3"
      ]
     },
     "execution_count": 103,
     "metadata": {},
     "output_type": "execute_result"
    }
   ],
   "source": [
    "cq=CQueue()\n",
    "cq.enqueue(1)\n",
    "cq.enqueue(2)\n",
    "cq.enqueue(3)\n",
    "\n",
    "cq.dequeue()\n",
    "cq.dequeue()\n",
    "cq.dequeue()"
   ]
  },
  {
   "cell_type": "markdown",
   "metadata": {},
   "source": [
    "<h3> Doubly Linked List </h3>"
   ]
  },
  {
   "cell_type": "code",
   "execution_count": null,
   "metadata": {},
   "outputs": [],
   "source": [
    "class DLL:\n",
    "    class _node:\n",
    "        def __init__(self, e, n):\n",
    "            self._e=e\n",
    "            self._next=n\n",
    "            \n",
    "    def __init__(self):\n",
    "        self._prev= None\n",
    "        self._next= None\n",
    "        self._size= 0\n",
    "    "
   ]
  }
 ],
 "metadata": {
  "kernelspec": {
   "display_name": "Python 3",
   "language": "python",
   "name": "python3"
  },
  "language_info": {
   "codemirror_mode": {
    "name": "ipython",
    "version": 3
   },
   "file_extension": ".py",
   "mimetype": "text/x-python",
   "name": "python",
   "nbconvert_exporter": "python",
   "pygments_lexer": "ipython3",
   "version": "3.6.4"
  }
 },
 "nbformat": 4,
 "nbformat_minor": 2
}
