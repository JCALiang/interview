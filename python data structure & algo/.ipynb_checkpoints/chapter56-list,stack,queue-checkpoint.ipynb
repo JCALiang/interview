{
 "cells": [
  {
   "cell_type": "markdown",
   "metadata": {},
   "source": [
    "<h1> List and Array </h1>\n",
    "\n",
    "<br>\n",
    "<h3> Difference btw Referential type and compact array </h3>\n",
    "\n",
    "<li> primary data store consecutively in actual memory </li>\n",
    "<li> homogenous element and need to declare element type </li>\n",
    "<li> better in computation </li>\n",
    "<li> less memory use </li>\n",
    "\n",
    "    \n",
    "    \n",
    "<h3> Dynamic array </h3>\n",
    "<li> can expand by amortization exponentially </li>\n",
    "\n",
    "Amortized analysis- calculate the average time-spent on a sequence of events--- to spread out cost\n",
    "fixed increment leads to quadratic while double the existing leads to linear O(n)\n",
    "<p/>\n",
    "Dynamic Array- trade of between memory and amortized operation time\n",
    "\n",
    "<h3> List/Array operation running time </h3>\n",
    "<pre>\n",
    "<strong> linear: </strong>count(v), index(v), contains(v), reverse, remove(v)\n",
    "         extend\n",
    "<strong> constant: </strong>data[j], data.append.pop\n",
    "<strong> nlogn: </strong>sort\n",
    "</pre>\n",
    "difference btw remove/pop/del: del specific index, remove first match value,pop last element\n"
   ]
  },
  {
   "cell_type": "code",
   "execution_count": 12,
   "metadata": {},
   "outputs": [
    {
     "data": {
      "text/plain": [
       "[1, 1, 2, 3, 4, 5, 6]"
      ]
     },
     "execution_count": 12,
     "metadata": {},
     "output_type": "execute_result"
    }
   ],
   "source": [
    "def insertion_sort(A):\n",
    "    # keep insert to left till it is the smallest\n",
    "    for k in range(len(A)):\n",
    "        cur= A[k]\n",
    "        j=k\n",
    "        while j>0 and cur < A[j-1]:\n",
    "            A[j] =A[j-1]\n",
    "            j-=1\n",
    "            \n",
    "        A[j]= cur\n",
    " \n",
    "a=[4,1,5,3,2,6,1]\n",
    "insertion_sort(a)\n",
    "a"
   ]
  },
  {
   "cell_type": "markdown",
   "metadata": {},
   "source": [
    "<h1> Stack, Queue, Deck </h1>\n",
    "\n"
   ]
  },
  {
   "cell_type": "markdown",
   "metadata": {},
   "source": [
    "<h3> Stack </h3>\n",
    "push and pop, len, empty, top"
   ]
  },
  {
   "cell_type": "code",
   "execution_count": 21,
   "metadata": {},
   "outputs": [],
   "source": [
    "class stack():\n",
    "    def __init__(self):\n",
    "        self._data=[]\n",
    "        \n",
    "    def __len__(self):\n",
    "        return len(self._data)\n",
    "    \n",
    "    def isEmpty(self):\n",
    "        return len(self._data) == 0\n",
    "    \n",
    "    def top(self):\n",
    "        if self.isEmpty():\n",
    "            raise Exception('Stack is empty')\n",
    "        return self._data[-1]\n",
    "    \n",
    "    def push(self, value):\n",
    "        self._data.append(value)\n",
    "    \n",
    "    \n",
    "    def pop(self):\n",
    "        if self.isEmpty():\n",
    "            raise Exception('Stack is empty')\n",
    "        self._data.pop()\n",
    "        "
   ]
  },
  {
   "cell_type": "code",
   "execution_count": 30,
   "metadata": {},
   "outputs": [],
   "source": [
    "a= stack()\n",
    "a.push(11)\n",
    "a.push(2)\n",
    "a.pop()"
   ]
  },
  {
   "cell_type": "markdown",
   "metadata": {},
   "source": [
    "<h3> Queue</h3>\n",
    "enqueue, dequeue, first, isEmpty, len"
   ]
  },
  {
   "cell_type": "code",
   "execution_count": 44,
   "metadata": {},
   "outputs": [
    {
     "data": {
      "text/plain": [
       "[5, None, None, 3, 4]"
      ]
     },
     "execution_count": 44,
     "metadata": {},
     "output_type": "execute_result"
    }
   ],
   "source": [
    "\n",
    "class queue():\n",
    "    DEFAULT=5\n",
    "    \n",
    "    def __init__(self):\n",
    "        self._data=[None]*queue.DEFAULT\n",
    "        self._size=0\n",
    "        self._front=0\n",
    "        \n",
    "    def __len__(self):\n",
    "        return self._size\n",
    "    \n",
    "    def isEmpty(self):\n",
    "        return self._size ==0\n",
    "    \n",
    "    def first(self):\n",
    "        return self._data[self._front]\n",
    "    \n",
    "    def resize(self):\n",
    "        length= 2*len(self._data)\n",
    "        old= self._data\n",
    "        \n",
    "        self._data= [None]* length\n",
    "        indexPos= self._front\n",
    "        \n",
    "        for i in range(len(old)):\n",
    "            self._data[i]= old[indexPos]\n",
    "            indexPos = (indexPos+1)%len(old)\n",
    "        self._front=0\n",
    "        \n",
    "    \n",
    "    def enqueue(self, value):\n",
    "        if self._size == len(self._data):\n",
    "\n",
    "            \n",
    "            self.resize()\n",
    "            \n",
    "        pos = (self._front+self._size) % len(self._data)\n",
    "        self._data[pos]= value\n",
    "        self._size+=1\n",
    "        \n",
    "    def dequeue(self):\n",
    "        self._data[self._front]=None\n",
    "        self._size-=1\n",
    "        self._front = (self._front +1) % len(self._data)\n",
    "    \n",
    "\n",
    "    \n",
    "x=queue()\n",
    "x.enqueue(1)\n",
    "x.enqueue(11)\n",
    "x.enqueue(22)\n",
    "x.dequeue()\n",
    "\n",
    "x.enqueue(3)\n",
    "x.enqueue(4)\n",
    "x.enqueue(5)\n",
    "x._data\n",
    "x.dequeue()\n",
    "x.dequeue()\n",
    "x._data\n",
    "\n"
   ]
  },
  {
   "cell_type": "markdown",
   "metadata": {},
   "source": [
    "\n",
    "<h3> Deck </h3>\n",
    "\n",
    "Doubly queue list shortform to deque deck"
   ]
  },
  {
   "cell_type": "code",
   "execution_count": null,
   "metadata": {},
   "outputs": [],
   "source": []
  }
 ],
 "metadata": {
  "kernelspec": {
   "display_name": "Python 3",
   "language": "python",
   "name": "python3"
  },
  "language_info": {
   "codemirror_mode": {
    "name": "ipython",
    "version": 3
   },
   "file_extension": ".py",
   "mimetype": "text/x-python",
   "name": "python",
   "nbconvert_exporter": "python",
   "pygments_lexer": "ipython3",
   "version": "3.6.4"
  }
 },
 "nbformat": 4,
 "nbformat_minor": 2
}
