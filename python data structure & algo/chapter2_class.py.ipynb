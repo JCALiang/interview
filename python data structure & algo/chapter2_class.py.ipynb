{
 "cells": [
  {
   "cell_type": "markdown",
   "metadata": {},
   "source": [
    "<h1> Object Oriented Programming </h1>\n",
    "\n",
    "\n",
    "\n",
    "\n",
    "<h2> 1. Goals/Principles/Design pattern </h2>\n",
    "\n",
    "\n",
    "<pre>\n",
    "<strong> 1.1  Goals: </strong>\n",
    "\n",
    "Robustness- accuracy/reliability\n",
    "Reusable- maintainability\n",
    "Adaptability - portable\n",
    "\n",
    "\n",
    "\n",
    "<strong> 1.2 Principles: </strong>\n",
    "\n",
    "Modularity\n",
    "    Increase robustness/ isolation/ easier to test and trace bugs\n",
    "    Increase reusability/ data type can be reused\n",
    "Abstraction:\n",
    "    Distill the complicated system to fundamental part\n",
    "    ADT- what operation and how to do it\n",
    "Encapsulation-\n",
    "    Increase adaptability- Add new functionality to local component\n",
    "    Increase robustness- Effect of changes is isolated\n",
    "\n",
    "\n",
    "\n",
    "<strong>1.3 Design pattern: </strong>\n",
    "    Describe solution to a typical software design problem\n",
    "    Consist of:\n",
    "        name (to identify pattern), \n",
    "        context (scenario which this can be apply), \n",
    "        template (how this can be applied),\n",
    "        result (analyze what the pattern produces) \n",
    "\n",
    "Algorithm:\n",
    "    Recursion\n",
    "    Amortization\n",
    "    Divide and conquer\n",
    "    Prune and search\n",
    "    Brute force\n",
    "    Dynamic programming\n",
    "    The greedy method\n",
    "\n",
    "Sofware engineering:\n",
    "    Iterator\n",
    "    Adapter\n",
    "    Position\n",
    "    Composition\n",
    "    Template method\n",
    "    Locator\n",
    "    Factory method\n",
    "\n",
    "\n",
    "</pre>\n",
    "\n",
    "<h2> 2. Software development stages </h2>\n",
    "<pre>\n",
    "Design, implement, testing/ debugging\n",
    "\n",
    "Design- CRC (cross responsibility card)- actions, actors, associated actor \n",
    "        UML - name, variables, actions\n",
    "\n",
    "Implement- Pseudocode\n",
    "           Pydoc for documentation\n",
    "            \n",
    "\n",
    "Testing- for inputs of a) sequence of length 0 (empty)\n",
    "                        b) sequence of length 1\n",
    "                        c) all same elements\n",
    "                        d) sorted sequence\n",
    "                        e) reversed sorted sequence\n",
    "         for bounday cases a) insert\n",
    "                           b) delete\n",
    "         2 types of approach- top down or bottom up\n",
    "         for top-down use stubbing to replace lower components\n",
    "         for bottom-up, unit testing (isolated), regression testing (environment)\n",
    "         \n",
    "</pre>\n",
    "\n",
    "<h2> 3. Class, instantiation & inheritance </h2>"
   ]
  },
  {
   "cell_type": "code",
   "execution_count": 25,
   "metadata": {},
   "outputs": [],
   "source": [
    "class CreditCard:\n",
    "    def __init__(self, a, b,c, d):\n",
    "        self._account= a\n",
    "        self._bank = b\n",
    "        self._customer= c\n",
    "        self._limit = d\n",
    "        self._balance= 0\n",
    "        \n",
    "    def get_acount(self):\n",
    "        return self._account\n",
    "    \n",
    "    def get_bank(self):\n",
    "        return self._bank\n",
    "    \n",
    "    def get_customer(self):\n",
    "        return self._customer\n",
    "    \n",
    "    def get_limit(self):\n",
    "        return self._limit\n",
    "    \n",
    "    def get_balance(self):\n",
    "        return self._balance\n",
    "    \n",
    "    \n",
    "    def charge(self, price):\n",
    "        if self._balance + price > self._limit:\n",
    "            return False\n",
    "        \n",
    "        self._balance += price\n",
    "        return True\n",
    "    \n"
   ]
  },
  {
   "cell_type": "code",
   "execution_count": 26,
   "metadata": {},
   "outputs": [
    {
     "data": {
      "text/plain": [
       "500"
      ]
     },
     "execution_count": 26,
     "metadata": {},
     "output_type": "execute_result"
    }
   ],
   "source": [
    "cc=CreditCard(\"12234\", \"ABC bank\", \"John Jod\", 1000)\n",
    "cc.get_balance()\n",
    "cc.charge(500)\n",
    "cc.get_balance()"
   ]
  },
  {
   "cell_type": "code",
   "execution_count": 40,
   "metadata": {},
   "outputs": [],
   "source": [
    "class PredatoryCard(CreditCard):\n",
    "    def __init__(self, a, b, c, d, apr ):\n",
    "        super().__init__(a,b,c,d)\n",
    "        self._apr= apr\n",
    "    \n",
    "        \n",
    "    def charge(self, price):\n",
    "        success = super().charge(price)\n",
    "        if not success:\n",
    "            self._balance +=5\n",
    "        return success\n",
    "    \n",
    "    def month_payment(self):\n",
    "        if self._balance > 0:\n",
    "            monthly_factor= pow(1+self._apr/100, 1/12)\n",
    "            self._balance *= monthly_factor\n",
    "            print(monthly_factor)\n",
    "        return"
   ]
  },
  {
   "cell_type": "code",
   "execution_count": 41,
   "metadata": {},
   "outputs": [],
   "source": [
    "cc=PredatoryCard(\"12234\", \"ABC bank\", \"John Jod\", 1000, 5)"
   ]
  },
  {
   "cell_type": "code",
   "execution_count": 42,
   "metadata": {},
   "outputs": [
    {
     "name": "stdout",
     "output_type": "stream",
     "text": [
      "1.0040741237836484\n"
     ]
    }
   ],
   "source": [
    "cc.charge(100)\n",
    "cc.get_balance()\n",
    "cc.month_payment()\n",
    "cc.get_balance()"
   ]
  },
  {
   "cell_type": "markdown",
   "metadata": {},
   "source": [
    "\n",
    "<pre>\n",
    "<strong> Alias, copy, deepcopy </strong>\n",
    "Copy class, difference between deepcopy, shallow copy, alias copy\n",
    "alias points to the same reference thus will change the original.\n",
    "\n",
    "   original ⟶ |  list | ⟵ new\n",
    "                 🡓  🡓\n",
    "                |a||b|\n",
    "                   \n",
    "               \n",
    "\n",
    "shallow copy- create a new reference that points to the same underlying references\n",
    "    \n",
    "   original  ⟶ |  list | \n",
    "                🡓    🡓\n",
    "               |a|  |b|\n",
    "                🡑    🡑\n",
    "              |new list| ⟵ new\n",
    "        \n",
    "        \n",
    "deepcopy- create new instances of inner references \n",
    "\n",
    "   original ⟶  |list|     \n",
    "                🡓  🡓\n",
    "              |a| |b| \n",
    "\n",
    "\n",
    "   new ⟶ |new list| \n",
    "           🡓    🡓\n",
    "          |a|  |b|\n",
    "\n",
    "\n",
    "</pre>"
   ]
  },
  {
   "cell_type": "code",
   "execution_count": null,
   "metadata": {},
   "outputs": [],
   "source": []
  }
 ],
 "metadata": {
  "kernelspec": {
   "display_name": "Python 3",
   "language": "python",
   "name": "python3"
  },
  "language_info": {
   "codemirror_mode": {
    "name": "ipython",
    "version": 3
   },
   "file_extension": ".py",
   "mimetype": "text/x-python",
   "name": "python",
   "nbconvert_exporter": "python",
   "pygments_lexer": "ipython3",
   "version": "3.6.4"
  }
 },
 "nbformat": 4,
 "nbformat_minor": 2
}
