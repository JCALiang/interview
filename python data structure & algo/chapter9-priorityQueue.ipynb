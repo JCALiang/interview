{
 "cells": [
  {
   "cell_type": "markdown",
   "metadata": {},
   "source": [
    "<h1> Chapter 9: PriorityQueue and Heap </h1>"
   ]
  },
  {
   "cell_type": "markdown",
   "metadata": {},
   "source": [
    "<h3> 9.1 PQ ADT </h3>\n",
    "<br/>\n",
    "\n",
    "<pre>\n",
    "p.add(k,v)\n",
    "p.min()\n",
    "p.remove_min()\n",
    "len(p)\n",
    "\n",
    "</pre>\n",
    "\n",
    "<h3> 9.2 Unsorted List </h3>\n",
    "<pre>\n",
    "Time analysis:\n",
    "    len O(1)\n",
    "    add O(1)\n",
    "    remove_min: O(n)\n",
    "    \n",
    "\n",
    "</pre>\n"
   ]
  },
  {
   "cell_type": "code",
   "execution_count": 64,
   "metadata": {},
   "outputs": [],
   "source": [
    "class PriorityQueueBase:\n",
    "    class _Item:\n",
    "        \n",
    "        def __init__(self, k, v):\n",
    "            self._k= k\n",
    "            self._v=v\n",
    "            \n",
    "        def __lt__(self, other):\n",
    "            return self._k < other._k\n",
    "        \n",
    "    def _isEmpty(self):\n",
    "        print('hellllo')\n",
    "        return len(self._data)==0\n",
    "    \n"
   ]
  },
  {
   "cell_type": "code",
   "execution_count": 80,
   "metadata": {},
   "outputs": [],
   "source": [
    "import queue\n",
    "class UnsortedPQ(PriorityQueueBase):\n",
    "    \n",
    "    def _findMin(self):\n",
    "\n",
    "        if self._isEmpty():\n",
    "            print('empty')\n",
    "            return\n",
    "\n",
    "        small= self._data[0]\n",
    "        for i in range(1, len(self)):\n",
    "            if self._data[i] < small:\n",
    "                small = self._data[i]\n",
    "        return small\n",
    "                \n",
    "        \n",
    "    \n",
    "    def __init__(self):\n",
    "        self._data= []\n",
    "        \n",
    "    def __len__(self):\n",
    "        return len(self._data)\n",
    "    \n",
    "    def add(self, key, value):\n",
    "        self._data.append(self._Item(key, value))\n",
    "        \n",
    "    def min(self):\n",
    "        p= self._findMin()\n",
    "        return p._k\n",
    "    \n",
    "    def removeMin(self):\n",
    "        p= self._findMin()\n",
    "        self._data.remove(p)"
   ]
  },
  {
   "cell_type": "code",
   "execution_count": 81,
   "metadata": {},
   "outputs": [
    {
     "name": "stdout",
     "output_type": "stream",
     "text": [
      "hellllo\n"
     ]
    },
    {
     "data": {
      "text/plain": [
       "5"
      ]
     },
     "execution_count": 81,
     "metadata": {},
     "output_type": "execute_result"
    }
   ],
   "source": [
    "a=UnsortedPQ()\n",
    "a.add(10,10)\n",
    "a.add(20,10)\n",
    "a.add(5,20)\n",
    "\n",
    "a.min()"
   ]
  },
  {
   "cell_type": "markdown",
   "metadata": {},
   "source": [
    "<h3> 9.2 Sorted List </h3>\n",
    "<pre>\n",
    "\n",
    "Very similar to unsorted, except need to sort first when insert\n",
    "Time analysis:\n",
    "    len O(1)\n",
    "    add O(n)\n",
    "    remove_min: O(1)\n",
    "    \n",
    "\n",
    "</pre>\n",
    "\n",
    "<h3> 9.3 Heap </h3>\n",
    "<pre>\n",
    "Combine sorted and unsorted list\n",
    "Upbubbling when add\n",
    "downbubble when remove\n",
    "\n",
    "Time analysis:\n",
    "    len, isEmpty: O(1)\n",
    "    add, remove: O(logN)\n",
    "    \n",
    "</pre>\n"
   ]
  },
  {
   "cell_type": "code",
   "execution_count": 113,
   "metadata": {},
   "outputs": [],
   "source": [
    "class HeapPQ(PriorityQueueBase):\n",
    "    \n",
    "    \"\"\"helper functions\"\"\"\n",
    "    \n",
    "    def _parent(self, j):\n",
    "        if j==0:\n",
    "            return 0\n",
    "        return (j-1)//2\n",
    "    \n",
    "    def _swap(self, i,j):\n",
    "        self._data[i], self._data[j]= self._data[j], self._data[i]\n",
    "        \n",
    "    def _left(self, i):\n",
    "        return 2*i+1 < len(self._data)\n",
    "    \n",
    "    def _right(self, i):\n",
    "        return 2*i+2 < len(self._data)\n",
    "    \n",
    "    \n",
    "    def _upbubble(self, j):\n",
    "        parent= self._parent(j)\n",
    "        if j>0 and self._data[j] < self._data[parent]:\n",
    "            self._swap(j, parent)\n",
    "            self._upbubble(parent)\n",
    "        return\n",
    "    \n",
    "    \n",
    "    def _downbubble(self,j):\n",
    "        if self._left(j):\n",
    "            left= 2*j+1\n",
    "            smallchild=  left\n",
    "            if self._right(j):\n",
    "                right= 2*j+2\n",
    "                print(smallchild, right)\n",
    "                if self._data[right] < self._data[smallchild]:\n",
    "                    smallchild= right\n",
    "            \n",
    "            if self._data[smallchild] < self._data[j]:\n",
    "                self._swap(smallchild, j)\n",
    "                self._downbubble(smallchild)\n",
    "    \n",
    "    \"\"\"\"\"\"\n",
    "    \n",
    "    def __init__(self, c=None):\n",
    "        \n",
    "        if c:\n",
    "            self._data= [self._Item(k,v) for k,v in c]\n",
    "            self._heapify()\n",
    "        else:\n",
    "            self._data=[]\n",
    "        \n",
    "    def _heapify(self):\n",
    "        start= self._parent(len(self)-1)\n",
    "        for j in range(start, -1, -1):\n",
    "            self._downheap(self._data[j])\n",
    "            \n",
    "    def __len__(self):\n",
    "        return len(self._data)\n",
    "    \n",
    "\n",
    "    def add(self, k, v):\n",
    "        self._data.append(self._Item(k,v))\n",
    "        self._upbubble(len(self._data)-1)\n",
    "        \n",
    "    def min(self):\n",
    "        return self._data[0]._k\n",
    "        \n",
    "    def removeMin(self):\n",
    "        self._swap(0, len(self._data)-1)\n",
    "        p= self._data.pop()\n",
    "        self._downbubble(0)\n",
    "        return p._k\n",
    "    \n",
    "    \n",
    "        \n",
    "        "
   ]
  },
  {
   "cell_type": "code",
   "execution_count": 114,
   "metadata": {},
   "outputs": [
    {
     "name": "stdout",
     "output_type": "stream",
     "text": [
      "1 2\n"
     ]
    },
    {
     "data": {
      "text/plain": [
       "2"
      ]
     },
     "execution_count": 114,
     "metadata": {},
     "output_type": "execute_result"
    }
   ],
   "source": [
    "b=HeapPQ()\n",
    "b.add(10,2)\n",
    "b.add(2,3)\n",
    "b.add(5,7)\n",
    "b.add(6,10)\n",
    "b.add(12,9)\n",
    "b.add(1,10)\n",
    "b.removeMin()\n",
    "b.min()"
   ]
  },
  {
   "cell_type": "code",
   "execution_count": null,
   "metadata": {},
   "outputs": [],
   "source": []
  }
 ],
 "metadata": {
  "kernelspec": {
   "display_name": "Python 3",
   "language": "python",
   "name": "python3"
  },
  "language_info": {
   "codemirror_mode": {
    "name": "ipython",
    "version": 3
   },
   "file_extension": ".py",
   "mimetype": "text/x-python",
   "name": "python",
   "nbconvert_exporter": "python",
   "pygments_lexer": "ipython3",
   "version": "3.6.4"
  }
 },
 "nbformat": 4,
 "nbformat_minor": 2
}
