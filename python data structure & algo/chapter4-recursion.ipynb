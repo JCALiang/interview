{
 "cells": [
  {
   "cell_type": "code",
   "execution_count": 17,
   "metadata": {},
   "outputs": [],
   "source": [
    "def binary_search(target, arr):\n",
    "    \n",
    "    if len(arr)==1:\n",
    "        if arr[0]== target:\n",
    "            return True\n",
    "        return False\n",
    "    \n",
    "    mid = len(arr)//2\n",
    "    print(arr[mid])\n",
    "    if target== arr[mid]:\n",
    "        return True\n",
    "    elif target > arr[mid]:\n",
    "        return binary_search(target, arr[mid+1:])\n",
    "    else:\n",
    "        return binary_search(target, arr[:mid])"
   ]
  },
  {
   "cell_type": "code",
   "execution_count": 18,
   "metadata": {},
   "outputs": [
    {
     "name": "stdout",
     "output_type": "stream",
     "text": [
      "12\n",
      "20\n",
      "False\n"
     ]
    }
   ],
   "source": [
    "arr=[1,3,4,5,11,12,15,16,20,33]\n",
    "t= binary_search(34, arr)\n",
    "print(t)"
   ]
  },
  {
   "cell_type": "code",
   "execution_count": 25,
   "metadata": {},
   "outputs": [
    {
     "name": "stdout",
     "output_type": "stream",
     "text": [
      "3\n"
     ]
    }
   ],
   "source": [
    "def bad_fib(n):\n",
    "    if n<=1:\n",
    "        return 1\n",
    "    \n",
    "    return bad_fib(n-1) + bad_fib(n-2)\n",
    "\n",
    "print(bad_fib(3))"
   ]
  },
  {
   "cell_type": "code",
   "execution_count": 26,
   "metadata": {},
   "outputs": [
    {
     "name": "stdout",
     "output_type": "stream",
     "text": [
      "(3, 2)\n"
     ]
    }
   ],
   "source": [
    "def good_fib(n):\n",
    "    if n<=1:\n",
    "        return(n,1)\n",
    "    \n",
    "    (a,b)= good_fib(n-1)\n",
    "    return (a+b, a)\n",
    "\n",
    "\n",
    "print(good_fib(3))"
   ]
  },
  {
   "cell_type": "code",
   "execution_count": 19,
   "metadata": {},
   "outputs": [
    {
     "name": "stdout",
     "output_type": "stream",
     "text": [
      "1322070819480806636890455259752144365965422032752148167664920368226828597346704899540778313850608061963909777696872582355950954582100618911865342725257953674027620225198320803878014774228964841274390400117588618041128947815623094438061566173054086674490506178125480344405547054397038895817465368254916136220830268563778582290228416398307887896918556404084898937609373242171846359938695516765018940588109060426089671438864102814350385648747165832010614366132173102768902855220001\n"
     ]
    }
   ],
   "source": [
    "def linear_pow(x,n):\n",
    "    if n==0:\n",
    "        return 1\n",
    "    \n",
    "    return x*power(x, n-1)\n",
    "\n",
    "print(power(3,1000))"
   ]
  },
  {
   "cell_type": "code",
   "execution_count": 20,
   "metadata": {},
   "outputs": [
    {
     "name": "stdout",
     "output_type": "stream",
     "text": [
      "1322070819480806636890455259752144365965422032752148167664920368226828597346704899540778313850608061963909777696872582355950954582100618911865342725257953674027620225198320803878014774228964841274390400117588618041128947815623094438061566173054086674490506178125480344405547054397038895817465368254916136220830268563778582290228416398307887896918556404084898937609373242171846359938695516765018940588109060426089671438864102814350385648747165832010614366132173102768902855220001\n"
     ]
    }
   ],
   "source": [
    "def log_pow(x,n):\n",
    "    \n",
    "    if n==0:\n",
    "        return 1\n",
    "    \n",
    "    \n",
    "    half= log_pow(x, n//2)\n",
    "    res= half * half\n",
    "    \n",
    "    if n%2==1:\n",
    "        res*=x\n",
    "        \n",
    "    return res\n",
    "\n",
    "print(log_pow(3,1000))"
   ]
  },
  {
   "cell_type": "code",
   "execution_count": null,
   "metadata": {},
   "outputs": [],
   "source": []
  }
 ],
 "metadata": {
  "kernelspec": {
   "display_name": "Python 3",
   "language": "python",
   "name": "python3"
  },
  "language_info": {
   "codemirror_mode": {
    "name": "ipython",
    "version": 3
   },
   "file_extension": ".py",
   "mimetype": "text/x-python",
   "name": "python",
   "nbconvert_exporter": "python",
   "pygments_lexer": "ipython3",
   "version": "3.6.4"
  }
 },
 "nbformat": 4,
 "nbformat_minor": 2
}
