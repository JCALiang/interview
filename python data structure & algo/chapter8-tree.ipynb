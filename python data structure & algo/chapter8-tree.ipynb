{
 "cells": [
  {
   "cell_type": "markdown",
   "metadata": {},
   "source": [
    "<h1> chapter8 Tree</h1>\n",
    "\n"
   ]
  },
  {
   "cell_type": "code",
   "execution_count": 7,
   "metadata": {},
   "outputs": [],
   "source": [
    "##Tree ADT\n",
    "\n",
    "class Tree:\n",
    "    class Position:\n",
    "        def element(self):\n",
    "            raise NotImplementedError('must be implemented by subclass')\n",
    "        def __eq__(self, other):\n",
    "            raise NotImplementedError('must be implemented by subclass')\n",
    "        def __ne__(self, other):\n",
    "            return not (self==other)\n",
    "    def _root(self):\n",
    "        raise NotImplementedError('must be implemented by subclass')\n",
    "    \n",
    "    def _parent(self,p):\n",
    "        raise NotImplementedError('must be implemented by subclass')\n",
    "        \n",
    "    def _nChildren(self,p):\n",
    "        raise NotImplementedError('must be implemented by subclass')\n",
    "        \n",
    "    def _children(self, p):\n",
    "        raise NotImplementedError('must be implemented by subclass')\n",
    "        \n",
    "    def __len__(self):\n",
    "        raise NotImplementedError('must be implemented by subclass')\n",
    "        \n",
    "    def _isRoot(self,p):\n",
    "        return self._root() == p\n",
    "    \n",
    "    def _isLeaf(self,p):\n",
    "        return self.nChildren(p) ==0\n",
    "    \n",
    "    def _isEmpty(self):\n",
    "        return len(self)==0\n",
    "    \n",
    "    def _depth(self,p):\n",
    "        if self._isRoot(p):\n",
    "            return 0\n",
    "        \n",
    "        return 1+ self._depth(self._parent(p))\n",
    "    \n",
    "    \n",
    "    \n",
    "    \n",
    "        \n",
    "        "
   ]
  },
  {
   "cell_type": "code",
   "execution_count": 6,
   "metadata": {},
   "outputs": [],
   "source": []
  },
  {
   "cell_type": "code",
   "execution_count": null,
   "metadata": {},
   "outputs": [],
   "source": []
  }
 ],
 "metadata": {
  "kernelspec": {
   "display_name": "Python 3",
   "language": "python",
   "name": "python3"
  },
  "language_info": {
   "codemirror_mode": {
    "name": "ipython",
    "version": 3
   },
   "file_extension": ".py",
   "mimetype": "text/x-python",
   "name": "python",
   "nbconvert_exporter": "python",
   "pygments_lexer": "ipython3",
   "version": "3.6.4"
  }
 },
 "nbformat": 4,
 "nbformat_minor": 2
}
