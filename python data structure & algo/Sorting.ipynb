{
 "cells": [
  {
   "cell_type": "markdown",
   "metadata": {},
   "source": [
    "<h1> Sorting </h1>\n"
   ]
  },
  {
   "cell_type": "markdown",
   "metadata": {},
   "source": [
    "<h3> Time analysis </h3>\n",
    "<pre>\n",
    "Insertion, Selection: O(n2)\n",
    "Merge sort, heap sort O(nlogn)\n",
    "Quicksort: depend, worst O(n2) but usually O(nlogn)\n",
    "Bucket, Radix: O(d(n+N)), d-tuples, d=1 for bucket.\n",
    "</pre>\n",
    "<h3> Insertion / Selection </h3>\n"
   ]
  },
  {
   "cell_type": "code",
   "execution_count": 124,
   "metadata": {},
   "outputs": [],
   "source": [
    "def selection(arr):\n",
    "    \"\"\"find the min first\"\"\"\n",
    "    \n",
    "    for i in range(len(arr)):\n",
    "        minj= i\n",
    "        for j in range(i+1, len(arr)):\n",
    "            if arr[j] < arr[minj]:\n",
    "                minj=j \n",
    "        arr[i], arr[minj] = arr[minj], arr[i]\n",
    "   \n",
    "    return\n",
    "      \n",
    "\n",
    "def insertion(arr):\n",
    "    \"\"\"sort the first n \"\"\"\n",
    "    for i in range(1, len(arr)):\n",
    "        key=arr[i]\n",
    "        j= i-1\n",
    "        while j>=0 and key < arr[j]:\n",
    "            arr[j+1], arr[j]= arr[j], arr[j+1]\n",
    "            j-=1\n",
    "        \n",
    "    return  "
   ]
  },
  {
   "cell_type": "code",
   "execution_count": 125,
   "metadata": {},
   "outputs": [
    {
     "data": {
      "text/plain": [
       "[1, 2, 3, 4, 4, 5, 10]"
      ]
     },
     "execution_count": 125,
     "metadata": {},
     "output_type": "execute_result"
    }
   ],
   "source": [
    "a=[3,4,5,1,2,10,4]\n",
    "insertion(a)\n",
    "a"
   ]
  },
  {
   "cell_type": "markdown",
   "metadata": {},
   "source": [
    "<h3> Merge sort / Heap Sort </h3>\n",
    "\n",
    "HeapSort\n",
    "    Array--> add elements to heap. Heap --> remove elements back to array"
   ]
  },
  {
   "cell_type": "code",
   "execution_count": 120,
   "metadata": {},
   "outputs": [],
   "source": [
    "def mergeAdd(arr1, arr2):\n",
    "    i=j=0\n",
    "    f=[]\n",
    "    \n",
    "    while i+j< len(arr1+arr2):\n",
    "        if i==len(arr1):\n",
    "            f.append(arr2[j])\n",
    "            j+=1\n",
    "        elif j==len(arr2):\n",
    "            f.append(arr1[i])\n",
    "            i+=1\n",
    "        elif arr1[i] > arr2[j]:\n",
    "            f.append(arr2[j])\n",
    "            j+=1\n",
    "        else:\n",
    "            f.append(arr1[i])\n",
    "            i+=1\n",
    "\n",
    "    return f\n",
    "        \n",
    "            \n",
    "    \n",
    "\n",
    "def mergeSort(arr):\n",
    "    if len(arr)==1:\n",
    "        return arr\n",
    "    \n",
    "\n",
    "    mid= len(arr)//2\n",
    " \n",
    "    left= mergeSort(arr[0:mid])\n",
    "    right= mergeSort(arr[mid:len(arr)])\n",
    "    merge= mergeAdd(left,right)\n",
    "    print(merge)\n",
    "    return merge\n",
    "    \n",
    "    "
   ]
  },
  {
   "cell_type": "code",
   "execution_count": 121,
   "metadata": {},
   "outputs": [
    {
     "name": "stdout",
     "output_type": "stream",
     "text": [
      "[3, 4]\n",
      "[2, 3, 4]\n",
      "[1, 5]\n",
      "[2, 3]\n",
      "[1, 2, 3, 5]\n",
      "[1, 2, 2, 3, 3, 4, 5]\n"
     ]
    },
    {
     "data": {
      "text/plain": [
       "[1, 2, 2, 3, 3, 4, 5]"
      ]
     },
     "execution_count": 121,
     "metadata": {},
     "output_type": "execute_result"
    }
   ],
   "source": [
    "arr=[2,3,4,1,5,2,3]\n",
    "mergeSort(arr)"
   ]
  },
  {
   "cell_type": "markdown",
   "metadata": {},
   "source": [
    "<h3> Quick Sort </h3>"
   ]
  },
  {
   "cell_type": "code",
   "execution_count": 196,
   "metadata": {},
   "outputs": [],
   "source": [
    "import queue\n",
    "\n",
    "def quicksort(arr):\n",
    "    if arr.qsize() <2:\n",
    "        return arr\n",
    "    \n",
    "    p=arr.get()\n",
    "    L=queue.Queue()\n",
    "    E=queue.Queue()\n",
    "    G=queue.Queue()\n",
    "    \n",
    "    E.put(p)\n",
    "    while not arr.empty():\n",
    "        i= arr.get()\n",
    "        if i < p:\n",
    "            L.put(i)\n",
    "        elif i > p:\n",
    "            G.put(i)\n",
    "        else:\n",
    "            E.put(i)\n",
    "    \n",
    "\n",
    "    L=quicksort(L)\n",
    "    G=quicksort(G)\n",
    "    \n",
    "    \n",
    "    while not L.empty():\n",
    "        arr.put(L.get())\n",
    "    while not E.empty():\n",
    "        arr.put(E.get())\n",
    "    while not G.empty():\n",
    "        arr.put(G.get())\n",
    "        \n",
    "    return arr\n",
    "\n",
    "\n",
    "def quicksort_inplace(arr, a, b):\n",
    "    \n",
    "    if a>=b: return\n",
    "    pivot= arr[b]\n",
    "    left=a\n",
    "    right= b-1\n",
    "    \n",
    "    while left <= right:\n",
    "        while left <= right and arr[left] < pivot:\n",
    "            left+=1\n",
    "        while left <= right and arr[right] > pivot:\n",
    "            right+=1\n",
    "        \n",
    "        while left <= right:\n",
    "            arr[left], arr[right]= arr[right], arr[left]\n",
    "            left+=1\n",
    "            right-=1\n",
    "        \n",
    "    arr[left], arr[b]= arr[b], arr[left]\n",
    "    quicksort_inplace(arr, a, left-1)\n",
    "    quicksort_inplace(arr, left+1, b)\n",
    "    \n",
    "\n",
    "\n",
    "    "
   ]
  },
  {
   "cell_type": "code",
   "execution_count": 197,
   "metadata": {},
   "outputs": [
    {
     "name": "stdout",
     "output_type": "stream",
     "text": [
      "size 8\n",
      "1\n",
      "2\n",
      "4\n",
      "4\n",
      "5\n",
      "3\n",
      "5\n",
      "4\n"
     ]
    }
   ],
   "source": [
    "import queue\n",
    "arr=[5,4,3,1,2,4,4,5]\n",
    "j=queue.Queue()\n",
    "for i in arr:\n",
    "    j.put(i)\n",
    "    \n",
    "a=quicksort_inplace(arr, 0, 7)\n",
    "print('size',len(arr))\n",
    "for i in arr:\n",
    "    print(i)"
   ]
  },
  {
   "cell_type": "code",
   "execution_count": null,
   "metadata": {},
   "outputs": [],
   "source": []
  },
  {
   "cell_type": "markdown",
   "metadata": {},
   "source": [
    "<h3> Bucket sort/ Radix Sort </h3>\n",
    "<pre>\n",
    "Bucket sort--> use bucket to arrange/ store keys.\n",
    "1. remove elements from S and insert into the bucket\n",
    "2. for each b in buckets:\n",
    "        for each i in b:\n",
    "            insert i back to S\n",
    "\n",
    "Radix--> use \n",
    "1. use lexigraphic sorting to swap \n",
    "</pre>"
   ]
  },
  {
   "cell_type": "code",
   "execution_count": null,
   "metadata": {},
   "outputs": [],
   "source": []
  }
 ],
 "metadata": {
  "kernelspec": {
   "display_name": "Python 3",
   "language": "python",
   "name": "python3"
  },
  "language_info": {
   "codemirror_mode": {
    "name": "ipython",
    "version": 3
   },
   "file_extension": ".py",
   "mimetype": "text/x-python",
   "name": "python",
   "nbconvert_exporter": "python",
   "pygments_lexer": "ipython3",
   "version": "3.6.4"
  }
 },
 "nbformat": 4,
 "nbformat_minor": 2
}
